{
 "cells": [
  {
   "cell_type": "code",
   "execution_count": 5,
   "id": "541653b7-097a-4f3f-a2bd-f2633e6b4b9d",
   "metadata": {
    "tags": []
   },
   "outputs": [],
   "source": [
    "import nltk\n",
    "from nltk.corpus import brown\n",
    "from nltk.tokenize import word_tokenize\n",
    "from nltk import pos_tag\n",
    "from nltk.chunk import ne_chunk\n",
    "from nltk.probability import FreqDist"
   ]
  },
  {
   "cell_type": "code",
   "execution_count": 7,
   "id": "64123a60-c615-4d80-9265-866722f709ee",
   "metadata": {
    "tags": []
   },
   "outputs": [],
   "source": [
    "def sub_leaves(tree, label):\n",
    "    return [t.leaves()\n",
    "        for t in tree.subtrees(\n",
    "            lambda s: s.label() == label)]"
   ]
  },
  {
   "cell_type": "code",
   "execution_count": 9,
   "id": "a8c8b770-cb6e-40a7-8a5d-fd07d2ff1a64",
   "metadata": {
    "tags": []
   },
   "outputs": [],
   "source": [
    "org = []"
   ]
  },
  {
   "cell_type": "code",
   "execution_count": 11,
   "id": "87b67268-777b-4459-8677-8899131935ad",
   "metadata": {
    "tags": []
   },
   "outputs": [],
   "source": [
    "for sent in brown.sents():\n",
    "    \n",
    "    tags = pos_tag(sent)\n",
    "    tree = nltk.ne_chunk(tags)\n",
    "    \n",
    "    ans = sub_leaves(tree, 'PERSON')\n",
    "    org.append(ans)\n"
   ]
  },
  {
   "cell_type": "code",
   "execution_count": 12,
   "id": "979a240e-596b-4922-9486-8306f7150bb8",
   "metadata": {
    "tags": []
   },
   "outputs": [
    {
     "data": {
      "text/plain": [
       "57340"
      ]
     },
     "execution_count": 12,
     "metadata": {},
     "output_type": "execute_result"
    }
   ],
   "source": [
    "len(org)"
   ]
  },
  {
   "cell_type": "code",
   "execution_count": 13,
   "id": "6f9a563a-9d6b-4e0f-bfb6-d4adad18afaa",
   "metadata": {
    "tags": []
   },
   "outputs": [
    {
     "data": {
      "text/plain": [
       "57340"
      ]
     },
     "execution_count": 13,
     "metadata": {},
     "output_type": "execute_result"
    }
   ],
   "source": [
    "len(brown.sents())"
   ]
  },
  {
   "cell_type": "code",
   "execution_count": 17,
   "id": "7d486d77-9e7c-405a-afb3-749a2bd49702",
   "metadata": {
    "tags": []
   },
   "outputs": [],
   "source": [
    "frequency = FreqDist()"
   ]
  },
  {
   "cell_type": "code",
   "execution_count": 19,
   "id": "d26a5a83-5ec1-4edd-8aae-8e8dfe1b1f2f",
   "metadata": {
    "tags": []
   },
   "outputs": [],
   "source": [
    "for item in org:\n",
    "    for ind in item:\n",
    "        if ind:\n",
    "            new_item = tuple(ind)\n",
    "            \n",
    "            if new_item not in frequency:\n",
    "                frequency[new_item] = 1\n",
    "            else:\n",
    "                frequency[new_item] += 1\n"
   ]
  },
  {
   "cell_type": "code",
   "execution_count": 24,
   "id": "746b8065-a6b0-4d2d-9ccd-688fcaea6b32",
   "metadata": {
    "tags": []
   },
   "outputs": [
    {
     "data": {
      "text/plain": [
       "[((('Mr.', 'NNP'),), 322),\n",
       " ((('John', 'NNP'),), 121),\n",
       " ((('Af', 'NNP'),), 78),\n",
       " ((('Kennedy', 'NNP'),), 71),\n",
       " ((('Mike', 'NNP'),), 67),\n",
       " ((('Miss', 'NNP'),), 60),\n",
       " ((('God', 'NNP'),), 59),\n",
       " ((('William', 'NNP'),), 58),\n",
       " ((('Phil', 'NNP'),), 54),\n",
       " ((('George', 'NNP'),), 52)]"
      ]
     },
     "execution_count": 24,
     "metadata": {},
     "output_type": "execute_result"
    }
   ],
   "source": [
    "frequency.most_common(10)"
   ]
  },
  {
   "cell_type": "code",
   "execution_count": null,
   "id": "70853fb1-d5c4-417b-ad31-fccf98824069",
   "metadata": {},
   "outputs": [],
   "source": []
  }
 ],
 "metadata": {
  "kernelspec": {
   "display_name": "Python 3 (ipykernel)",
   "language": "python",
   "name": "python3"
  },
  "language_info": {
   "codemirror_mode": {
    "name": "ipython",
    "version": 3
   },
   "file_extension": ".py",
   "mimetype": "text/x-python",
   "name": "python",
   "nbconvert_exporter": "python",
   "pygments_lexer": "ipython3",
   "version": "3.11.5"
  }
 },
 "nbformat": 4,
 "nbformat_minor": 5
}
