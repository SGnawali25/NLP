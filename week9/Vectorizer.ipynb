{
 "cells": [
  {
   "cell_type": "code",
   "execution_count": 30,
   "id": "de320d93-6c28-43d4-918e-ad260637cf56",
   "metadata": {
    "tags": []
   },
   "outputs": [],
   "source": [
    "from sklearn.feature_extraction.text import TfidfVectorizer\n",
    "from sklearn.metrics.pairwise import cosine_similarity\n",
    "import numpy as np\n",
    "from nltk.tokenize import word_tokenize\n"
   ]
  },
  {
   "cell_type": "code",
   "execution_count": 7,
   "id": "3040196b-bcc2-4a26-b521-5e26bfc18821",
   "metadata": {
    "tags": []
   },
   "outputs": [],
   "source": [
    "corpus = [\n",
    "    'The quick brown fox jumped over the lazy dog.',\n",
    "    'The dog barked at the fox.',\n",
    "    'Foxes are clever animals.',\n",
    "]"
   ]
  },
  {
   "cell_type": "code",
   "execution_count": 11,
   "id": "78b7d3ff-bd41-43e8-9f60-ee828b8da8b6",
   "metadata": {
    "tags": []
   },
   "outputs": [],
   "source": [
    "vectorizer = TfidfVectorizer()"
   ]
  },
  {
   "cell_type": "code",
   "execution_count": 64,
   "id": "086345b6-5647-49a9-908e-1720b59e26d4",
   "metadata": {
    "tags": []
   },
   "outputs": [],
   "source": [
    "matrix = vectorizer.fit_transform(corpus)"
   ]
  },
  {
   "cell_type": "code",
   "execution_count": 66,
   "id": "5735331a-6961-45af-ae49-cec5fa95e04f",
   "metadata": {
    "tags": []
   },
   "outputs": [
    {
     "data": {
      "text/plain": [
       "(3, 14)"
      ]
     },
     "execution_count": 66,
     "metadata": {},
     "output_type": "execute_result"
    }
   ],
   "source": [
    "matrix.shape"
   ]
  },
  {
   "cell_type": "code",
   "execution_count": 23,
   "id": "4209fd8b-ecf5-4782-b2cb-1c5498836d09",
   "metadata": {
    "tags": []
   },
   "outputs": [],
   "source": [
    "features = vectorizer.get_feature_names_out()"
   ]
  },
  {
   "cell_type": "code",
   "execution_count": 27,
   "id": "57cd3a87-25fd-4671-ba80-e85dcb4b23d7",
   "metadata": {
    "tags": []
   },
   "outputs": [
    {
     "data": {
      "text/plain": [
       "14"
      ]
     },
     "execution_count": 27,
     "metadata": {},
     "output_type": "execute_result"
    }
   ],
   "source": [
    "len(features)"
   ]
  },
  {
   "cell_type": "code",
   "execution_count": 50,
   "id": "121226e8-0aec-4e2c-9b3e-0d18ac0b429c",
   "metadata": {
    "tags": []
   },
   "outputs": [
    {
     "name": "stdout",
     "output_type": "stream",
     "text": [
      "15\n"
     ]
    }
   ],
   "source": [
    "test_set = set()\n",
    "for doc in corpus:\n",
    "    tokens = word_tokenize(doc)\n",
    "    for token in tokens:\n",
    "        token = token.lower()\n",
    "        test_set.add(token)\n",
    "        \n",
    "print(len(test_set))\n",
    "    "
   ]
  },
  {
   "cell_type": "code",
   "execution_count": 52,
   "id": "37cf6d76-9c36-4dc5-8af3-d8645fed82d1",
   "metadata": {
    "tags": []
   },
   "outputs": [
    {
     "data": {
      "text/plain": [
       "array(['animals', 'are', 'at', 'barked', 'brown', 'clever', 'dog', 'fox',\n",
       "       'foxes', 'jumped', 'lazy', 'over', 'quick', 'the'], dtype=object)"
      ]
     },
     "execution_count": 52,
     "metadata": {},
     "output_type": "execute_result"
    }
   ],
   "source": [
    "features"
   ]
  },
  {
   "cell_type": "code",
   "execution_count": 54,
   "id": "956a9b25-cf8c-48e9-91ff-a26df02452d5",
   "metadata": {
    "tags": []
   },
   "outputs": [
    {
     "data": {
      "text/plain": [
       "{'.',\n",
       " 'animals',\n",
       " 'are',\n",
       " 'at',\n",
       " 'barked',\n",
       " 'brown',\n",
       " 'clever',\n",
       " 'dog',\n",
       " 'fox',\n",
       " 'foxes',\n",
       " 'jumped',\n",
       " 'lazy',\n",
       " 'over',\n",
       " 'quick',\n",
       " 'the'}"
      ]
     },
     "execution_count": 54,
     "metadata": {},
     "output_type": "execute_result"
    }
   ],
   "source": [
    "test_set"
   ]
  },
  {
   "cell_type": "code",
   "execution_count": 56,
   "id": "8387b891-54a6-4a7f-af7d-d2561e622ff7",
   "metadata": {
    "tags": []
   },
   "outputs": [],
   "source": [
    "not_included = []\n",
    "for item in test_set:\n",
    "    if item not in features:\n",
    "        not_included.append(item)"
   ]
  },
  {
   "cell_type": "code",
   "execution_count": 58,
   "id": "e3d9cc40-03ec-47d3-b2a1-3ce2922fb8b0",
   "metadata": {
    "tags": []
   },
   "outputs": [
    {
     "data": {
      "text/plain": [
       "['.']"
      ]
     },
     "execution_count": 58,
     "metadata": {},
     "output_type": "execute_result"
    }
   ],
   "source": [
    "not_included"
   ]
  },
  {
   "cell_type": "code",
   "execution_count": 69,
   "id": "0813a332-0ac4-46d1-81ac-b8a3a2f36c35",
   "metadata": {
    "tags": []
   },
   "outputs": [],
   "source": [
    "cos_sim = cosine_similarity(np.transpose(matrix))"
   ]
  },
  {
   "cell_type": "code",
   "execution_count": 71,
   "id": "21542d8f-0da3-49c4-8aef-ac6068cac9c1",
   "metadata": {
    "tags": []
   },
   "outputs": [
    {
     "data": {
      "text/plain": [
       "(14, 14)"
      ]
     },
     "execution_count": 71,
     "metadata": {},
     "output_type": "execute_result"
    }
   ],
   "source": [
    "cos_sim.shape"
   ]
  },
  {
   "cell_type": "code",
   "execution_count": 83,
   "id": "1fc66332-f968-4c2b-b50b-a4cd5694fe59",
   "metadata": {
    "tags": []
   },
   "outputs": [
    {
     "data": {
      "text/plain": [
       "np.float64(1.0)"
      ]
     },
     "execution_count": 83,
     "metadata": {},
     "output_type": "execute_result"
    }
   ],
   "source": [
    "highest_similarity = np.max(cos_sim)\n",
    "highest_similarity"
   ]
  },
  {
   "cell_type": "code",
   "execution_count": 85,
   "id": "bc6a6b1b-bc57-49be-a2f1-be9f0503c706",
   "metadata": {
    "tags": []
   },
   "outputs": [],
   "source": [
    "location = np.where(cos_sim == highest_similarity)"
   ]
  },
  {
   "cell_type": "code",
   "execution_count": 87,
   "id": "e24d0954-c6f1-41c7-9d07-849ce0de04ce",
   "metadata": {
    "tags": []
   },
   "outputs": [
    {
     "data": {
      "text/plain": [
       "(array([ 0,  0,  0,  0,  1,  1,  1,  1,  2,  2,  3,  3,  4,  4,  4,  4,  4,\n",
       "         5,  5,  5,  5,  8,  8,  8,  8,  9,  9,  9,  9,  9, 10, 10, 10, 10,\n",
       "        10, 11, 11, 11, 11, 11, 12, 12, 12, 12, 12]),\n",
       " array([ 0,  1,  5,  8,  0,  1,  5,  8,  2,  3,  2,  3,  4,  9, 10, 11, 12,\n",
       "         0,  1,  5,  8,  0,  1,  5,  8,  4,  9, 10, 11, 12,  4,  9, 10, 11,\n",
       "        12,  4,  9, 10, 11, 12,  4,  9, 10, 11, 12]))"
      ]
     },
     "execution_count": 87,
     "metadata": {},
     "output_type": "execute_result"
    }
   ],
   "source": [
    "location"
   ]
  },
  {
   "cell_type": "code",
   "execution_count": 89,
   "id": "0b2ef1fa-bab4-4ab8-812d-574891416406",
   "metadata": {
    "tags": []
   },
   "outputs": [
    {
     "data": {
      "text/plain": [
       "('animals', 'are')"
      ]
     },
     "execution_count": 89,
     "metadata": {},
     "output_type": "execute_result"
    }
   ],
   "source": [
    "features[0], features[1]"
   ]
  },
  {
   "cell_type": "code",
   "execution_count": 94,
   "id": "b4dbb634-0c1e-4b88-9405-3012d0094804",
   "metadata": {
    "tags": []
   },
   "outputs": [
    {
     "data": {
      "text/plain": [
       "np.float64(1.0)"
      ]
     },
     "execution_count": 94,
     "metadata": {},
     "output_type": "execute_result"
    }
   ],
   "source": [
    "cos_sim[0, 1]"
   ]
  },
  {
   "cell_type": "code",
   "execution_count": null,
   "id": "45ac62ec-0f47-4456-b7e7-06f373c4a205",
   "metadata": {
    "tags": []
   },
   "outputs": [],
   "source": []
  },
  {
   "cell_type": "code",
   "execution_count": null,
   "id": "feb2c868-8e88-40f8-aa62-4c4cce6c415f",
   "metadata": {
    "tags": []
   },
   "outputs": [],
   "source": []
  },
  {
   "cell_type": "code",
   "execution_count": null,
   "id": "f7213875-1ddb-4897-98d1-ac3c436b8fd1",
   "metadata": {},
   "outputs": [],
   "source": []
  }
 ],
 "metadata": {
  "kernelspec": {
   "display_name": "Python 3 (ipykernel)",
   "language": "python",
   "name": "python3"
  },
  "language_info": {
   "codemirror_mode": {
    "name": "ipython",
    "version": 3
   },
   "file_extension": ".py",
   "mimetype": "text/x-python",
   "name": "python",
   "nbconvert_exporter": "python",
   "pygments_lexer": "ipython3",
   "version": "3.11.5"
  }
 },
 "nbformat": 4,
 "nbformat_minor": 5
}
