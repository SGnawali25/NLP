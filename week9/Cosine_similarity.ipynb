{
 "cells": [
  {
   "cell_type": "code",
   "execution_count": 23,
   "id": "ee57f19c-5120-47fc-b1e8-a1644c89be33",
   "metadata": {
    "tags": []
   },
   "outputs": [],
   "source": [
    "# pie data computer\n",
    "import numpy as np"
   ]
  },
  {
   "cell_type": "code",
   "execution_count": 61,
   "id": "7ed9c174-3539-46ef-8df9-48326194b744",
   "metadata": {
    "tags": []
   },
   "outputs": [],
   "source": [
    "cherry = [442, 8, 2]\n",
    "digital = [5, 1683, 1670]\n",
    "information = [5, 3982, 3325]"
   ]
  },
  {
   "cell_type": "code",
   "execution_count": 63,
   "id": "b51467af-48ac-4033-9a28-3489295f0580",
   "metadata": {
    "tags": []
   },
   "outputs": [],
   "source": [
    "dot_product_ci = np.dot(cherry, information)"
   ]
  },
  {
   "cell_type": "code",
   "execution_count": 65,
   "id": "25ed373a-80fa-4391-8d69-399617e75c6f",
   "metadata": {
    "tags": []
   },
   "outputs": [
    {
     "data": {
      "text/plain": [
       "np.int64(40716)"
      ]
     },
     "execution_count": 65,
     "metadata": {},
     "output_type": "execute_result"
    }
   ],
   "source": [
    "dot_product_ci"
   ]
  },
  {
   "cell_type": "code",
   "execution_count": 67,
   "id": "7f6fa225-4d63-4d3d-aa76-dc3b0bc8cb6d",
   "metadata": {
    "tags": []
   },
   "outputs": [],
   "source": [
    "mag_cherry = np.linalg.norm(cherry)\n",
    "mag_information = np.linalg.norm(information)"
   ]
  },
  {
   "cell_type": "code",
   "execution_count": 69,
   "id": "f7ee65d1-81a8-4650-a557-efa8f2ef45b8",
   "metadata": {
    "tags": []
   },
   "outputs": [
    {
     "data": {
      "text/plain": [
       "(np.float64(442.0769163844681), np.float64(5187.675201860656))"
      ]
     },
     "execution_count": 69,
     "metadata": {},
     "output_type": "execute_result"
    }
   ],
   "source": [
    "mag_cherry, mag_information"
   ]
  },
  {
   "cell_type": "code",
   "execution_count": 83,
   "id": "3ffb54dd-add6-4ceb-87a0-b59ba0e54d52",
   "metadata": {
    "tags": []
   },
   "outputs": [],
   "source": [
    "cosine_ci = dot_product_ci / (mag_cherry * mag_information)"
   ]
  },
  {
   "cell_type": "code",
   "execution_count": 85,
   "id": "4f56bc0e-9293-4943-b2e8-7335a8e2f88e",
   "metadata": {
    "tags": []
   },
   "outputs": [
    {
     "data": {
      "text/plain": [
       "np.float64(0.01775392946668344)"
      ]
     },
     "execution_count": 85,
     "metadata": {},
     "output_type": "execute_result"
    }
   ],
   "source": [
    "cosine_ci"
   ]
  },
  {
   "cell_type": "code",
   "execution_count": 75,
   "id": "0391d9c1-6b85-4914-a65c-4263fd18397f",
   "metadata": {
    "tags": []
   },
   "outputs": [],
   "source": [
    "dot_product_di = np.dot(digital, information)"
   ]
  },
  {
   "cell_type": "code",
   "execution_count": 77,
   "id": "3eb9fd55-1b5e-43a4-a65e-adad4b64e59e",
   "metadata": {
    "tags": []
   },
   "outputs": [
    {
     "data": {
      "text/plain": [
       "np.int64(12254481)"
      ]
     },
     "execution_count": 77,
     "metadata": {},
     "output_type": "execute_result"
    }
   ],
   "source": [
    "dot_product_di"
   ]
  },
  {
   "cell_type": "code",
   "execution_count": 79,
   "id": "d1f52070-8b10-4fbf-b00d-7c54b3d3919f",
   "metadata": {
    "tags": []
   },
   "outputs": [],
   "source": [
    "mag_digital = np.linalg.norm(digital)"
   ]
  },
  {
   "cell_type": "code",
   "execution_count": 81,
   "id": "6c5c7933-d01e-4bb4-9c29-9082b8dc5aa3",
   "metadata": {
    "tags": []
   },
   "outputs": [
    {
     "data": {
      "text/plain": [
       "np.float64(2370.9521294197402)"
      ]
     },
     "execution_count": 81,
     "metadata": {},
     "output_type": "execute_result"
    }
   ],
   "source": [
    "mag_digital"
   ]
  },
  {
   "cell_type": "code",
   "execution_count": 87,
   "id": "42537d37-81f8-4169-99c4-3b8b24a3af96",
   "metadata": {
    "tags": []
   },
   "outputs": [],
   "source": [
    "cosine_di = dot_product_di / (mag_digital * mag_information)"
   ]
  },
  {
   "cell_type": "code",
   "execution_count": 89,
   "id": "8691912f-9263-4280-aed0-85e697eb46ef",
   "metadata": {
    "tags": []
   },
   "outputs": [
    {
     "data": {
      "text/plain": [
       "np.float64(0.9963211738644715)"
      ]
     },
     "execution_count": 89,
     "metadata": {},
     "output_type": "execute_result"
    }
   ],
   "source": [
    "cosine_di"
   ]
  },
  {
   "cell_type": "code",
   "execution_count": null,
   "id": "7768c138-bef6-4232-862a-e6a1e063ed22",
   "metadata": {},
   "outputs": [],
   "source": []
  }
 ],
 "metadata": {
  "kernelspec": {
   "display_name": "Python 3 (ipykernel)",
   "language": "python",
   "name": "python3"
  },
  "language_info": {
   "codemirror_mode": {
    "name": "ipython",
    "version": 3
   },
   "file_extension": ".py",
   "mimetype": "text/x-python",
   "name": "python",
   "nbconvert_exporter": "python",
   "pygments_lexer": "ipython3",
   "version": "3.11.5"
  }
 },
 "nbformat": 4,
 "nbformat_minor": 5
}
