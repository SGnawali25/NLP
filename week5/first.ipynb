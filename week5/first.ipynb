{
 "cells": [
  {
   "cell_type": "code",
   "execution_count": 3,
   "id": "aac0bd96",
   "metadata": {},
   "outputs": [],
   "source": [
    "import nltk\n",
    "import random\n",
    "from nltk.corpus import names"
   ]
  },
  {
   "cell_type": "code",
   "execution_count": 4,
   "id": "a051f298",
   "metadata": {},
   "outputs": [],
   "source": [
    "def get_features(word):\n",
    "    return {\"last_letter\": word[-1]}\n"
   ]
  },
  {
   "cell_type": "code",
   "execution_count": 5,
   "id": "537bd4f8",
   "metadata": {},
   "outputs": [
    {
     "name": "stdout",
     "output_type": "stream",
     "text": [
      "{'last_letter': 'm'}\n"
     ]
    }
   ],
   "source": [
    "print(get_features(\"tom\"))"
   ]
  },
  {
   "cell_type": "code",
   "execution_count": 6,
   "id": "b5f11b33",
   "metadata": {},
   "outputs": [],
   "source": [
    "male_names = names.words('male.txt')"
   ]
  },
  {
   "cell_type": "code",
   "execution_count": 7,
   "id": "4b648631",
   "metadata": {},
   "outputs": [],
   "source": [
    "female_names = names.words('female.txt')"
   ]
  },
  {
   "cell_type": "code",
   "execution_count": 8,
   "id": "af6d27fd",
   "metadata": {},
   "outputs": [
    {
     "name": "stdout",
     "output_type": "stream",
     "text": [
      "5001\n"
     ]
    }
   ],
   "source": [
    "print(len(female_names))"
   ]
  },
  {
   "cell_type": "code",
   "execution_count": 9,
   "id": "86e1118c",
   "metadata": {},
   "outputs": [],
   "source": [
    "feature_set = [(get_features(n), \"male\") for n in names.words(\"male.txt\")] + [(get_features(n), \"female\") for n in names.words(\"female.txt\")]"
   ]
  },
  {
   "cell_type": "code",
   "execution_count": 10,
   "id": "a7c65c0c",
   "metadata": {},
   "outputs": [
    {
     "data": {
      "text/plain": [
       "7944"
      ]
     },
     "execution_count": 10,
     "metadata": {},
     "output_type": "execute_result"
    }
   ],
   "source": [
    "len(feature_set)"
   ]
  },
  {
   "cell_type": "code",
   "execution_count": 11,
   "id": "e3652ead",
   "metadata": {},
   "outputs": [],
   "source": [
    "random.shuffle(feature_set)\n",
    "train_set = feature_set[:int(0.7 * len(feature_set))]\n",
    "\n",
    "test_set = feature_set[int(0.7 * len(feature_set)):]"
   ]
  },
  {
   "cell_type": "code",
   "execution_count": 12,
   "id": "e5a5ce34",
   "metadata": {},
   "outputs": [],
   "source": [
    "from nltk.classify import NaiveBayesClassifier"
   ]
  },
  {
   "cell_type": "code",
   "execution_count": 13,
   "id": "6785b46d",
   "metadata": {},
   "outputs": [
    {
     "name": "stdout",
     "output_type": "stream",
     "text": [
      "male\n",
      "0.7659395973154363\n"
     ]
    }
   ],
   "source": [
    "classifier = NaiveBayesClassifier.train(train_set)\n",
    "print(classifier.classify(get_features(\"b\")))\n",
    "print(nltk.classify.accuracy(classifier, test_set))"
   ]
  },
  {
   "cell_type": "code",
   "execution_count": 14,
   "id": "81af2e0d",
   "metadata": {},
   "outputs": [],
   "source": [
    "arr = {}\n",
    "for i in range(26):\n",
    "    char = chr(ord(\"a\") + i)\n",
    "    arr[char] = classifier.classify(get_features(chr(ord(\"a\") + i)))\n"
   ]
  },
  {
   "cell_type": "code",
   "execution_count": 15,
   "id": "bb75b08f",
   "metadata": {},
   "outputs": [
    {
     "name": "stdout",
     "output_type": "stream",
     "text": [
      "{'a': 'female', 'b': 'male', 'c': 'male', 'd': 'male', 'e': 'female', 'f': 'male', 'g': 'male', 'h': 'female', 'i': 'female', 'j': 'male', 'k': 'male', 'l': 'male', 'm': 'male', 'n': 'male', 'o': 'male', 'p': 'male', 'q': 'female', 'r': 'male', 's': 'male', 't': 'male', 'u': 'male', 'v': 'male', 'w': 'male', 'x': 'female', 'y': 'female', 'z': 'male'}\n"
     ]
    }
   ],
   "source": [
    "print(arr)"
   ]
  },
  {
   "cell_type": "code",
   "execution_count": 16,
   "id": "faa843a0",
   "metadata": {},
   "outputs": [],
   "source": [
    "male = 0\n",
    "female = 0\n",
    "male_letter = []\n",
    "female_letter = []\n",
    "for letter, gender in arr.items():\n",
    "    if gender == 'male':\n",
    "        male += 1\n",
    "        male_letter.append(letter)\n",
    "    else:\n",
    "        female += 1\n",
    "        female_letter.append(letter)"
   ]
  },
  {
   "cell_type": "code",
   "execution_count": 17,
   "id": "ee61a867",
   "metadata": {},
   "outputs": [
    {
     "name": "stdout",
     "output_type": "stream",
     "text": [
      "19\n",
      "['b', 'c', 'd', 'f', 'g', 'j', 'k', 'l', 'm', 'n', 'o', 'p', 'r', 's', 't', 'u', 'v', 'w', 'z']\n"
     ]
    }
   ],
   "source": [
    "print(male)\n",
    "print(male_letter)"
   ]
  },
  {
   "cell_type": "code",
   "execution_count": 18,
   "id": "cef765ca",
   "metadata": {},
   "outputs": [
    {
     "name": "stdout",
     "output_type": "stream",
     "text": [
      "7\n",
      "['a', 'e', 'h', 'i', 'q', 'x', 'y']\n"
     ]
    }
   ],
   "source": [
    "print(female)\n",
    "print(female_letter)"
   ]
  },
  {
   "cell_type": "code",
   "execution_count": 19,
   "id": "e16fa2c4",
   "metadata": {},
   "outputs": [],
   "source": [
    "check = []\n",
    "for item in feature_set:\n",
    "    if item[0] == {\"last_letter\":\"h\"}:\n",
    "        check.append(item[1])"
   ]
  },
  {
   "cell_type": "code",
   "execution_count": 20,
   "id": "cbbe58f5",
   "metadata": {},
   "outputs": [],
   "source": [
    "counter = {}\n",
    "for item in check:\n",
    "    counter[item] = 1 + counter.get(item, 0)"
   ]
  },
  {
   "cell_type": "code",
   "execution_count": 21,
   "id": "8581b94f",
   "metadata": {},
   "outputs": [
    {
     "name": "stdout",
     "output_type": "stream",
     "text": [
      "{'female': 105, 'male': 93}\n"
     ]
    }
   ],
   "source": [
    "print(counter)"
   ]
  },
  {
   "cell_type": "code",
   "execution_count": 22,
   "id": "ffea1d40",
   "metadata": {},
   "outputs": [],
   "source": [
    "# demon = names predicted as \"female\" (positive class)\n",
    "# num = correctly predicted as female (true positive)"
   ]
  },
  {
   "cell_type": "code",
   "execution_count": 23,
   "id": "f7ad63df",
   "metadata": {},
   "outputs": [],
   "source": [
    "ff = 0\n",
    "fm = 0\n",
    "mf = 0\n",
    "mm = 0"
   ]
  },
  {
   "cell_type": "code",
   "execution_count": 24,
   "id": "cca8bd6a",
   "metadata": {},
   "outputs": [
    {
     "name": "stdout",
     "output_type": "stream",
     "text": [
      "2384\n"
     ]
    }
   ],
   "source": [
    "print(len(test_set))"
   ]
  },
  {
   "cell_type": "code",
   "execution_count": 25,
   "id": "673ded16",
   "metadata": {},
   "outputs": [
    {
     "name": "stdout",
     "output_type": "stream",
     "text": [
      "Most Informative Features\n",
      "             last_letter = 'a'            female : male   =     32.4 : 1.0\n",
      "             last_letter = 'k'              male : female =     29.2 : 1.0\n",
      "             last_letter = 'f'              male : female =     12.0 : 1.0\n",
      "             last_letter = 'm'              male : female =     11.6 : 1.0\n",
      "             last_letter = 'd'              male : female =     10.0 : 1.0\n"
     ]
    }
   ],
   "source": [
    "classifier.show_most_informative_features(5)"
   ]
  },
  {
   "cell_type": "code",
   "execution_count": 26,
   "id": "5d43696f",
   "metadata": {},
   "outputs": [
    {
     "name": "stdout",
     "output_type": "stream",
     "text": [
      "2384\n"
     ]
    }
   ],
   "source": [
    "print(len(test_set))"
   ]
  },
  {
   "cell_type": "code",
   "execution_count": 29,
   "id": "f6e76217",
   "metadata": {},
   "outputs": [],
   "source": [
    "predicted = []\n",
    "actual = []"
   ]
  },
  {
   "cell_type": "code",
   "execution_count": 30,
   "id": "3dc7b72c",
   "metadata": {},
   "outputs": [],
   "source": [
    "for feature, label in test_set:\n",
    "    pred = classifier.classify(feature)\n",
    "    predicted.append(pred)\n",
    "    actual.append(label)"
   ]
  },
  {
   "cell_type": "code",
   "execution_count": 31,
   "id": "8895bf69",
   "metadata": {},
   "outputs": [],
   "source": [
    "# for female\n",
    "# true positive : female predicted as female\n",
    "TP = 0\n",
    "# false positive : male predicted as female\n",
    "FP = 0\n",
    "# false negative : female preicted as male\n",
    "FN = 0"
   ]
  },
  {
   "cell_type": "code",
   "execution_count": 35,
   "id": "151d948a",
   "metadata": {},
   "outputs": [],
   "source": [
    "for act, pred in zip(actual, predicted):\n",
    "    if act == \"female\" and pred == \"female\":\n",
    "        TP += 1\n",
    "    elif act == \"male\" and pred == \"female\":\n",
    "        FP += 1\n",
    "    elif act == \"female\" and pred == \"male\":\n",
    "        FN  += 1\n"
   ]
  },
  {
   "cell_type": "code",
   "execution_count": 37,
   "id": "1fb37b82",
   "metadata": {},
   "outputs": [],
   "source": [
    "precision_female = TP / (TP + FP)\n",
    "recall_female = TP / (TP + FN)"
   ]
  },
  {
   "cell_type": "code",
   "execution_count": 38,
   "id": "0eb3e2fa",
   "metadata": {},
   "outputs": [
    {
     "name": "stdout",
     "output_type": "stream",
     "text": [
      "Precision for female: 0.8022193211488251\n",
      "Recall for female: 0.828167115902965\n"
     ]
    }
   ],
   "source": [
    "print(f'Precision for female: {precision_female}')\n",
    "print(f'Recall for female: {recall_female}')"
   ]
  },
  {
   "cell_type": "code",
   "execution_count": null,
   "id": "6b9d72ce",
   "metadata": {},
   "outputs": [],
   "source": []
  }
 ],
 "metadata": {
  "kernelspec": {
   "display_name": "Python 3 (ipykernel)",
   "language": "python",
   "name": "python3"
  },
  "language_info": {
   "codemirror_mode": {
    "name": "ipython",
    "version": 3
   },
   "file_extension": ".py",
   "mimetype": "text/x-python",
   "name": "python",
   "nbconvert_exporter": "python",
   "pygments_lexer": "ipython3",
   "version": "3.11.4"
  }
 },
 "nbformat": 4,
 "nbformat_minor": 5
}
