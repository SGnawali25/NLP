{
 "cells": [
  {
   "cell_type": "code",
   "execution_count": 1,
   "metadata": {},
   "outputs": [
    {
     "name": "stdout",
     "output_type": "stream",
     "text": [
      "Peugeot 508\n",
      "Peugeot 206\n",
      "Peugeot 307\n"
     ]
    }
   ],
   "source": [
    "import re\n",
    "moniker_numbers = [\"Peugeot 508\", \"Peugeot 206\", \"Peugeot 307\", \"Peugeot 317\"]\n",
    "for item in moniker_numbers:\n",
    "    if re.search('^Peugeot [0-9]0[0-9]$', item):\n",
    "        print(item)"
   ]
  },
  {
   "cell_type": "code",
   "execution_count": 14,
   "metadata": {},
   "outputs": [],
   "source": [
    "moniker_numbers = [\"Peugeot 508\", \"Peugeot 206\", \"Peugeot 307\", \"Peugeot 317\"]\n"
   ]
  },
  {
   "cell_type": "code",
   "execution_count": 15,
   "metadata": {},
   "outputs": [
    {
     "name": "stdout",
     "output_type": "stream",
     "text": [
      "Peugeot 508\n",
      "Peugeot 206\n",
      "Peugeot 307\n"
     ]
    }
   ],
   "source": [
    "for item in moniker_numbers:\n",
    "    if re.search('^Peugeot [0-9]0[0-9]$', item):\n",
    "        print(item)\n"
   ]
  },
  {
   "cell_type": "code",
   "execution_count": null,
   "metadata": {},
   "outputs": [],
   "source": []
  }
 ],
 "metadata": {
  "kernelspec": {
   "display_name": "Python 3",
   "language": "python",
   "name": "python3"
  },
  "language_info": {
   "codemirror_mode": {
    "name": "ipython",
    "version": 3
   },
   "file_extension": ".py",
   "mimetype": "text/x-python",
   "name": "python",
   "nbconvert_exporter": "python",
   "pygments_lexer": "ipython3",
   "version": "3.11.4"
  },
  "orig_nbformat": 4
 },
 "nbformat": 4,
 "nbformat_minor": 2
}
