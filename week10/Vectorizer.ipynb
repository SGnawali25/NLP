{
 "cells": [
  {
   "cell_type": "code",
   "execution_count": 61,
   "id": "7b25ba6f-0dd7-4627-b1a7-cb50e02e9d68",
   "metadata": {
    "tags": []
   },
   "outputs": [],
   "source": [
    "from nltk.corpus import movie_reviews\n",
    "from sklearn.feature_extraction.text import TfidfVectorizer\n",
    "from sklearn.manifold import TSNE\n",
    "from sklearn.metrics.pairwise import cosine_similarity\n",
    "import numpy as np\n",
    "from nltk import FreqDist\n",
    "from nltk.tokenize import word_tokenize\n"
   ]
  },
  {
   "cell_type": "code",
   "execution_count": 9,
   "id": "68a3d59f-54de-47b3-a154-24fcb0ba77f6",
   "metadata": {
    "tags": []
   },
   "outputs": [],
   "source": [
    "documents = [(list(movie_reviews.sents(fileid)), category) \\\n",
    "for category in movie_reviews.categories() \\\n",
    "for fileid in movie_reviews.fileids(category)]"
   ]
  },
  {
   "cell_type": "code",
   "execution_count": 51,
   "id": "9c1dd5f3-32c5-46c1-9ef7-d5ac515a962f",
   "metadata": {
    "tags": []
   },
   "outputs": [],
   "source": [
    "corpus = []\n",
    "for (docuemnt, category) in documents:\n",
    "    sentence = ''\n",
    "    for tokens in docuemnt:\n",
    "        sentence += (' '.join(tokens))\n",
    "        # break\n",
    "    corpus += [sentence]\n",
    "    "
   ]
  },
  {
   "cell_type": "code",
   "execution_count": 55,
   "id": "1de394a5-5418-4b43-92bb-a227f50d8999",
   "metadata": {},
   "outputs": [
    {
     "name": "stdout",
     "output_type": "stream",
     "text": [
      "(2000, 39659)\n",
      "['00' '000' '0009f' ... 'zwigoff' 'zycie' 'zzzzzzz']\n"
     ]
    }
   ],
   "source": [
    "vectorizer = TfidfVectorizer()\n",
    "X = vectorizer.fit_transform(corpus)\n",
    "features = vectorizer.get_feature_names_out()\n",
    "print(X.shape)\n",
    "print(features)"
   ]
  },
  {
   "cell_type": "code",
   "execution_count": 23,
   "id": "4a709273-305c-4735-b57b-bfc67b3d9ae6",
   "metadata": {
    "tags": []
   },
   "outputs": [
    {
     "data": {
      "text/plain": [
       "(2000, 2)"
      ]
     },
     "execution_count": 23,
     "metadata": {},
     "output_type": "execute_result"
    }
   ],
   "source": [
    "X_embedded = TSNE(n_components=2, learning_rate='auto',\n",
    "init='random', perplexity=3).fit_transform(X)\n",
    "X_embedded.shape"
   ]
  },
  {
   "cell_type": "code",
   "execution_count": 25,
   "id": "f685319f-e4a0-439b-a331-4d0efcc74fc0",
   "metadata": {
    "tags": []
   },
   "outputs": [
    {
     "name": "stdout",
     "output_type": "stream",
     "text": [
      "(39659, 39659)\n"
     ]
    }
   ],
   "source": [
    "cos_sim = cosine_similarity(np.transpose(X))\n",
    "print(cos_sim.shape)"
   ]
  },
  {
   "cell_type": "code",
   "execution_count": 84,
   "id": "703299d5-ed95-4eb4-8099-3300727ea365",
   "metadata": {
    "tags": []
   },
   "outputs": [
    {
     "name": "stdout",
     "output_type": "stream",
     "text": [
      "(array([15003]),)\n",
      "(array([15246]),)\n",
      "(array([39658]),)\n"
     ]
    }
   ],
   "source": [
    "print(np.where(features == 'good'))\n",
    "print(np.where(features == 'great'))\n",
    "print(np.where(features == 'zzzzzzz'))\n"
   ]
  },
  {
   "cell_type": "code",
   "execution_count": 43,
   "id": "4b8a6dd3-5a9f-47dd-b2ce-a6ee046a1c61",
   "metadata": {
    "tags": []
   },
   "outputs": [
    {
     "data": {
      "text/plain": [
       "np.float64(0.37984209242708195)"
      ]
     },
     "execution_count": 43,
     "metadata": {},
     "output_type": "execute_result"
    }
   ],
   "source": [
    "cos_sim[15003, 15246] #(good vs great)"
   ]
  },
  {
   "cell_type": "code",
   "execution_count": 33,
   "id": "bec815b3-76cc-476b-bbfb-37f9e749890e",
   "metadata": {
    "tags": []
   },
   "outputs": [
    {
     "data": {
      "text/plain": [
       "np.float64(0.06776733437228842)"
      ]
     },
     "execution_count": 33,
     "metadata": {},
     "output_type": "execute_result"
    }
   ],
   "source": [
    "cos_sim[15003, 20915] #(good vs lousy)\n"
   ]
  },
  {
   "cell_type": "code",
   "execution_count": 35,
   "id": "8f93c956-eb5e-46b5-afbe-3bf165e3807e",
   "metadata": {
    "tags": []
   },
   "outputs": [
    {
     "data": {
      "text/plain": [
       "np.float64(0.0)"
      ]
     },
     "execution_count": 35,
     "metadata": {},
     "output_type": "execute_result"
    }
   ],
   "source": [
    "cos_sim[15426, 20915] #(great vs lousy)"
   ]
  },
  {
   "cell_type": "code",
   "execution_count": 63,
   "id": "85cb7502-4415-4513-96a5-1d530fe910d7",
   "metadata": {
    "tags": []
   },
   "outputs": [],
   "source": [
    "token_freq = {}\n",
    "for doc in corpus:\n",
    "    tokens = word_tokenize(doc)\n",
    "    for token in tokens:\n",
    "        token_freq[token] = token_freq.get(token, 0) + 1\n",
    "    \n",
    "\n",
    "token_freq = FreqDist(token_freq)\n",
    "        \n",
    "    "
   ]
  },
  {
   "cell_type": "code",
   "execution_count": 86,
   "id": "303630ee-b286-4c4a-bcb8-6aeeb5aa5211",
   "metadata": {
    "tags": []
   },
   "outputs": [
    {
     "data": {
      "text/plain": [
       "[(',', 77717),\n",
       " ('the', 69223),\n",
       " ('a', 37296),\n",
       " ('and', 34164),\n",
       " ('of', 33882),\n",
       " ('to', 31688),\n",
       " (\"'\", 30502),\n",
       " ('is', 25105),\n",
       " ('in', 20352),\n",
       " ('s', 18385),\n",
       " ('``', 17536),\n",
       " ('-', 15559),\n",
       " ('that', 15459),\n",
       " ('it', 13273),\n",
       " (')', 11781),\n",
       " ('(', 11664),\n",
       " ('as', 10520),\n",
       " ('with', 10450),\n",
       " ('for', 9518),\n",
       " ('film', 9512),\n",
       " ('his', 9052),\n",
       " ('this', 8095),\n",
       " ('.the', 7300),\n",
       " ('he', 7291),\n",
       " ('on', 7134),\n",
       " ('but', 6942),\n",
       " ('are', 6931),\n",
       " ('i', 6899),\n",
       " ('t', 6370),\n",
       " ('be', 6146),\n",
       " ('by', 6100),\n",
       " ('movie', 5768),\n",
       " ('who', 5651),\n",
       " ('an', 5637),\n",
       " ('not', 5457),\n",
       " ('one', 5395),\n",
       " ('.', 5022),\n",
       " ('was', 4923),\n",
       " ('you', 4921),\n",
       " ('have', 4885),\n",
       " ('from', 4877),\n",
       " ('has', 4714),\n",
       " ('at', 4628),\n",
       " ('her', 4347),\n",
       " ('they', 4127),\n",
       " ('all', 4120),\n",
       " ('?', 3771),\n",
       " ('out', 3622),\n",
       " ('like', 3547),\n",
       " ('about', 3513),\n",
       " ('up', 3397),\n",
       " ('so', 3295),\n",
       " ('more', 3295),\n",
       " ('which', 3110),\n",
       " ('or', 3071),\n",
       " (':', 3042),\n",
       " ('can', 3003),\n",
       " ('their', 2986),\n",
       " ('what', 2899),\n",
       " ('.it', 2828),\n",
       " ('just', 2798),\n",
       " ('some', 2790),\n",
       " ('him', 2633),\n",
       " ('into', 2618),\n",
       " ('when', 2607),\n",
       " ('she', 2607),\n",
       " ('there', 2599),\n",
       " ('than', 2473),\n",
       " ('only', 2421),\n",
       " ('time', 2403),\n",
       " ('good', 2396),\n",
       " ('we', 2311),\n",
       " ('no', 2269),\n",
       " ('even', 2228),\n",
       " ('its', 2216),\n",
       " ('story', 2164),\n",
       " ('will', 2161),\n",
       " ('if', 2160),\n",
       " ('most', 2140),\n",
       " ('would', 2096),\n",
       " ('--', 2055),\n",
       " ('been', 2050),\n",
       " ('character', 2016),\n",
       " ('.i', 1989),\n",
       " ('much', 1986),\n",
       " ('get', 1928),\n",
       " ('other', 1881),\n",
       " ('do', 1878),\n",
       " ('them', 1875),\n",
       " ('two', 1850),\n",
       " (';', 1850),\n",
       " ('very', 1846),\n",
       " ('characters', 1845),\n",
       " ('well', 1792),\n",
       " ('also', 1767),\n",
       " ('first', 1738),\n",
       " ('!', 1713),\n",
       " ('see', 1702),\n",
       " ('.but', 1692),\n",
       " ('way', 1689)]"
      ]
     },
     "execution_count": 86,
     "metadata": {},
     "output_type": "execute_result"
    }
   ],
   "source": [
    "token_freq.most_common(100)"
   ]
  },
  {
   "cell_type": "code",
   "execution_count": 92,
   "id": "9a6c24bb-d5ba-4cf6-aeb3-044c905570c4",
   "metadata": {
    "tags": []
   },
   "outputs": [
    {
     "name": "stdout",
     "output_type": "stream",
     "text": [
      "23113\n",
      "33714\n"
     ]
    }
   ],
   "source": [
    "first = np.where(features == \"movie\")[0][0]\n",
    "second = np.where(features == \"story\")[0][0]\n",
    "\n",
    "print(first)\n",
    "print(second)"
   ]
  },
  {
   "cell_type": "code",
   "execution_count": 94,
   "id": "8769ddc5-3667-49bd-afea-84c1fc06b60f",
   "metadata": {
    "tags": []
   },
   "outputs": [
    {
     "data": {
      "text/plain": [
       "np.float64(0.3822586697336221)"
      ]
     },
     "execution_count": 94,
     "metadata": {},
     "output_type": "execute_result"
    }
   ],
   "source": [
    "cos_sim[first, second] #(movie vs story)"
   ]
  },
  {
   "cell_type": "code",
   "execution_count": 104,
   "id": "ba01063b-7053-41b0-8251-f5a4d33b908b",
   "metadata": {
    "tags": []
   },
   "outputs": [
    {
     "name": "stdout",
     "output_type": "stream",
     "text": [
      "35351\n",
      "2217\n"
     ]
    }
   ],
   "source": [
    "first = np.where(features == \"they\")[0][0]\n",
    "second = np.where(features == \"are\")[0][0]\n",
    "\n",
    "print(first)\n",
    "print(second)"
   ]
  },
  {
   "cell_type": "code",
   "execution_count": 106,
   "id": "ad5b2286-5fe9-42df-a2a4-252006eaefa5",
   "metadata": {
    "tags": []
   },
   "outputs": [
    {
     "data": {
      "text/plain": [
       "np.float64(0.6862500932464547)"
      ]
     },
     "execution_count": 106,
     "metadata": {},
     "output_type": "execute_result"
    }
   ],
   "source": [
    "cos_sim[first, second] #(see vs watch)"
   ]
  },
  {
   "cell_type": "code",
   "execution_count": 108,
   "id": "7cd0a0c4-8a66-4c95-be39-1455c30aecb1",
   "metadata": {
    "tags": []
   },
   "outputs": [
    {
     "data": {
      "text/plain": [
       "np.float64(1.000000000000004)"
      ]
     },
     "execution_count": 108,
     "metadata": {},
     "output_type": "execute_result"
    }
   ],
   "source": [
    "np.max(cos_sim)"
   ]
  },
  {
   "cell_type": "code",
   "execution_count": 110,
   "id": "5d8972fd-b98f-4b49-94e6-0e006864bc7b",
   "metadata": {
    "tags": []
   },
   "outputs": [
    {
     "data": {
      "text/plain": [
       "np.float64(0.9999999999999999)"
      ]
     },
     "execution_count": 110,
     "metadata": {},
     "output_type": "execute_result"
    }
   ],
   "source": [
    "np.max(cos_sim[cos_sim<1])"
   ]
  },
  {
   "cell_type": "code",
   "execution_count": 122,
   "id": "0bec88cf-c0df-4a97-9f79-49d54d6774fb",
   "metadata": {
    "tags": []
   },
   "outputs": [
    {
     "data": {
      "text/plain": [
       "np.float64(0.9899612569064791)"
      ]
     },
     "execution_count": 122,
     "metadata": {},
     "output_type": "execute_result"
    }
   ],
   "source": [
    "desired_similarity = np.max(cos_sim[cos_sim < 0.99])\n",
    "desired_similarity"
   ]
  },
  {
   "cell_type": "code",
   "execution_count": 114,
   "id": "48af3676-3988-4f2d-8c02-9de52d4b3c65",
   "metadata": {
    "tags": []
   },
   "outputs": [],
   "source": [
    "locations = np.where(cos_sim == desired_similarity)"
   ]
  },
  {
   "cell_type": "code",
   "execution_count": 116,
   "id": "d7148240-7374-4f91-8465-6bf423f9011d",
   "metadata": {
    "tags": []
   },
   "outputs": [
    {
     "data": {
      "text/plain": [
       "(array([  231,  3135,  4792,  5250,  7857,  9447, 14326, 19665, 19665,\n",
       "        19665, 19665, 19665, 19665, 19665, 19665, 19665, 19665, 20684,\n",
       "        21868, 32417]),\n",
       " array([19665, 19665, 19665, 19665, 19665, 19665, 19665,   231,  3135,\n",
       "         4792,  5250,  7857,  9447, 14326, 20684, 21868, 32417, 19665,\n",
       "        19665, 19665]))"
      ]
     },
     "execution_count": 116,
     "metadata": {},
     "output_type": "execute_result"
    }
   ],
   "source": [
    "locations"
   ]
  },
  {
   "cell_type": "code",
   "execution_count": 128,
   "id": "54d17a49-5477-434f-a7ba-3d23b79fe587",
   "metadata": {
    "tags": []
   },
   "outputs": [
    {
     "data": {
      "text/plain": [
       "np.float64(0.9899612569064791)"
      ]
     },
     "execution_count": 128,
     "metadata": {},
     "output_type": "execute_result"
    }
   ],
   "source": [
    "cos_sim[3135, 19665]"
   ]
  },
  {
   "cell_type": "code",
   "execution_count": 130,
   "id": "d76f9b73-4c4c-4f91-8e0d-c594c9c72966",
   "metadata": {
    "tags": []
   },
   "outputs": [
    {
     "data": {
      "text/plain": [
       "('baptiste', 'korben')"
      ]
     },
     "execution_count": 130,
     "metadata": {},
     "output_type": "execute_result"
    }
   ],
   "source": [
    "features[3135], features[19665]"
   ]
  },
  {
   "cell_type": "code",
   "execution_count": 138,
   "id": "587cdefd-f32f-477d-a17f-7b6c55032e53",
   "metadata": {
    "tags": []
   },
   "outputs": [
    {
     "data": {
      "text/plain": [
       "(7, 1, 1)"
      ]
     },
     "execution_count": 138,
     "metadata": {},
     "output_type": "execute_result"
    }
   ],
   "source": [
    "token_freq['korben'], token_freq['baptiste'], token_freq['2023']"
   ]
  },
  {
   "cell_type": "code",
   "execution_count": 140,
   "id": "272fefdd-3024-4431-9a95-037c5a05b312",
   "metadata": {
    "tags": []
   },
   "outputs": [
    {
     "name": "stdout",
     "output_type": "stream",
     "text": [
      "44558\n"
     ]
    }
   ],
   "source": [
    "print(len(token_freq))"
   ]
  },
  {
   "cell_type": "code",
   "execution_count": null,
   "id": "2bfb748b-9a70-4fe6-ae13-8413fd07ecfd",
   "metadata": {},
   "outputs": [],
   "source": []
  }
 ],
 "metadata": {
  "kernelspec": {
   "display_name": "Python 3 (ipykernel)",
   "language": "python",
   "name": "python3"
  },
  "language_info": {
   "codemirror_mode": {
    "name": "ipython",
    "version": 3
   },
   "file_extension": ".py",
   "mimetype": "text/x-python",
   "name": "python",
   "nbconvert_exporter": "python",
   "pygments_lexer": "ipython3",
   "version": "3.11.5"
  }
 },
 "nbformat": 4,
 "nbformat_minor": 5
}
