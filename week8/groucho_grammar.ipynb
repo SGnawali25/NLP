{
 "cells": [
  {
   "cell_type": "code",
   "execution_count": 14,
   "id": "0b5256ff-2d00-473a-9db8-75d568ae6bc6",
   "metadata": {
    "tags": []
   },
   "outputs": [],
   "source": [
    "import nltk\n",
    "from nltk.tokenize import word_tokenize\n",
    "from nltk import pos_tag\n",
    "from nltk.parse import ChartParser, RecursiveDescentParser"
   ]
  },
  {
   "cell_type": "code",
   "execution_count": 5,
   "id": "e31c248d-a358-4b68-8b53-3aeb420a4f8a",
   "metadata": {
    "tags": []
   },
   "outputs": [],
   "source": [
    "grammar = r'''\n",
    "    NP: {<DT|JJ|NN.*>+}\n",
    "    PP: {<IN><NP>}\n",
    "    VP: {<VBZ>?<RB>?<VB.*> <NP|PP|CLAUSE>+$}\n",
    "    CLAUSE:{<NP><VP>}\n",
    "'''\n",
    "\n",
    "cp = nltk.RegexpParser(grammar, loop = 2)"
   ]
  },
  {
   "cell_type": "code",
   "execution_count": 20,
   "id": "65f7ec4c-5902-49f7-b05b-e9a89ba7dc0e",
   "metadata": {
    "tags": []
   },
   "outputs": [
    {
     "name": "stdout",
     "output_type": "stream",
     "text": [
      "(S\n",
      "  I/PRP\n",
      "  shot/VBP\n",
      "  (NP an/DT elephant/NN)\n",
      "  in/IN\n",
      "  my/PRP$\n",
      "  (NP pajamas/NN)\n",
      "  ./.)\n"
     ]
    }
   ],
   "source": [
    "sentence = \"I shot an elephant in my pajamas.\"\n",
    "tokens = word_tokenize(sentence)\n",
    "tags = pos_tag(tokens)\n",
    "print(cp.parse(tags))"
   ]
  },
  {
   "cell_type": "code",
   "execution_count": 22,
   "id": "fbcbd5ce-4392-4e40-bbcf-aa7672a25061",
   "metadata": {
    "tags": []
   },
   "outputs": [],
   "source": [
    "sentence = word_tokenize(r'I shot an elephant in my pajamas')"
   ]
  },
  {
   "cell_type": "code",
   "execution_count": 24,
   "id": "aadd19af-3256-492d-8c3b-ff7d4ce49da0",
   "metadata": {
    "tags": []
   },
   "outputs": [],
   "source": [
    "groucho_grammar = nltk.CFG.fromstring(\"\"\"\n",
    "    S -> NP VP\n",
    "    PP -> P NP\n",
    "    NP -> Det N | Det N PP | 'I'\n",
    "    VP -> V NP | VP PP\n",
    "    Det -> 'an' | 'my'\n",
    "    N -> 'elephant' | 'pajamas'\n",
    "    V -> 'shot'\n",
    "    P -> 'in'\n",
    "\"\"\")"
   ]
  },
  {
   "cell_type": "code",
   "execution_count": 26,
   "id": "08434495-a0dc-4478-a448-8325742b0701",
   "metadata": {
    "tags": []
   },
   "outputs": [],
   "source": [
    "parser = ChartParser(groucho_grammar)\n",
    "trees = parser.parse_all(sentence)"
   ]
  },
  {
   "cell_type": "code",
   "execution_count": 69,
   "id": "e050250e-3d3f-4ded-a1b3-5caddc00e040",
   "metadata": {
    "tags": []
   },
   "outputs": [
    {
     "name": "stdout",
     "output_type": "stream",
     "text": [
      "(S\n",
      "  (NP (Adj Visiting) (N relatives))\n",
      "  (VP (VP (V can) be) (Adj tiresome)))\n"
     ]
    }
   ],
   "source": [
    "for tree in trees:\n",
    "    print(tree)\n",
    "    tree.draw()"
   ]
  },
  {
   "cell_type": "code",
   "execution_count": 63,
   "id": "fdc68836-c8ba-4c7f-93ec-48b4051aa010",
   "metadata": {
    "tags": []
   },
   "outputs": [],
   "source": [
    "custom_grammar = nltk.CFG.fromstring(\"\"\"\n",
    "    S -> NP VP\n",
    "    PP -> P NP\n",
    "    NP -> Det N | Det N PP | 'I' | Det Adj N | Adj N\n",
    "    VP -> V NP | VP PP | VP Adj | V 'be'\n",
    "    Det -> 'an' | 'a' | 'my' |\n",
    "    N -> 'elephant' | 'pajamas' | 'latte' | 'relatives' | 'animals'\n",
    "    V -> 'shot' | 'ordered' | 'could' | 'be' | 'can'\n",
    "    Adj -> 'Fighting' | 'Visiting' | 'dangerous' | 'tiresome' | 'hot'\n",
    "    P -> 'in'\n",
    "\"\"\")"
   ]
  },
  {
   "cell_type": "code",
   "execution_count": 83,
   "id": "c096947e-0ef8-4c4e-907a-07810b60738a",
   "metadata": {
    "tags": []
   },
   "outputs": [
    {
     "name": "stdout",
     "output_type": "stream",
     "text": [
      "['Visiting', 'relatives', 'can', 'be', 'tiresome']\n"
     ]
    }
   ],
   "source": [
    "parser = ChartParser(custom_grammar)\n",
    "# sentence = word_tokenize(r'I ordered a hot latte')\n",
    "# sentence = word_tokenize(r'Fighting animals could be dangerous')\n",
    "sentence = word_tokenize('Visiting relatives can be tiresome')\n",
    "print(sentence)\n",
    "trees = parser.parse_all(sentence)"
   ]
  },
  {
   "cell_type": "code",
   "execution_count": 77,
   "id": "58c28d74-34ce-4c94-991f-73945540eae5",
   "metadata": {
    "tags": []
   },
   "outputs": [
    {
     "name": "stdout",
     "output_type": "stream",
     "text": [
      "(S\n",
      "  (NP (Adj Visiting) (N relatives))\n",
      "  (VP (VP (V can) be) (Adj tiresome)))\n",
      "(S\n",
      "  (NP (Det ) (Adj Visiting) (N relatives))\n",
      "  (VP (VP (V can) be) (Adj tiresome)))\n"
     ]
    }
   ],
   "source": [
    "for tree in trees:\n",
    "    print(tree)\n",
    "    tree.draw()"
   ]
  },
  {
   "cell_type": "code",
   "execution_count": null,
   "id": "1f224319-96ea-4e8d-813f-328c6f491302",
   "metadata": {},
   "outputs": [],
   "source": []
  }
 ],
 "metadata": {
  "kernelspec": {
   "display_name": "Python 3 (ipykernel)",
   "language": "python",
   "name": "python3"
  },
  "language_info": {
   "codemirror_mode": {
    "name": "ipython",
    "version": 3
   },
   "file_extension": ".py",
   "mimetype": "text/x-python",
   "name": "python",
   "nbconvert_exporter": "python",
   "pygments_lexer": "ipython3",
   "version": "3.11.5"
  }
 },
 "nbformat": 4,
 "nbformat_minor": 5
}
