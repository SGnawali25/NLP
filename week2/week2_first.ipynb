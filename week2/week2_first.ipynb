{
 "cells": [
  {
   "cell_type": "code",
   "execution_count": 61,
   "id": "448e2051-3e15-41a6-8594-9ab1aa0ba0ca",
   "metadata": {
    "tags": []
   },
   "outputs": [],
   "source": [
    "import nltk\n",
    "from nltk.book import text7\n",
    "import re"
   ]
  },
  {
   "cell_type": "code",
   "execution_count": 3,
   "id": "726cd9bf-5d46-47cc-9042-73068ee4442e",
   "metadata": {
    "tags": []
   },
   "outputs": [
    {
     "name": "stdout",
     "output_type": "stream",
     "text": [
      "100676\n"
     ]
    }
   ],
   "source": [
    "text_list = list(text7)\n",
    "print(len(text_list))"
   ]
  },
  {
   "cell_type": "code",
   "execution_count": 7,
   "id": "3e75112c-fd28-4486-9a7d-5eacf1a662a1",
   "metadata": {
    "tags": []
   },
   "outputs": [
    {
     "name": "stdout",
     "output_type": "stream",
     "text": [
      "12408\n"
     ]
    }
   ],
   "source": [
    "text_set = set(text7)\n",
    "print(len(text_set))"
   ]
  },
  {
   "cell_type": "code",
   "execution_count": 9,
   "id": "0d549a63-87df-4848-9798-91ec4f5b5336",
   "metadata": {
    "tags": []
   },
   "outputs": [
    {
     "name": "stdout",
     "output_type": "stream",
     "text": [
      "3\n"
     ]
    }
   ],
   "source": [
    "unique_token_start_with_x = set()\n",
    "\n",
    "for token in text_set:\n",
    "    if token.startswith(\"X\"):\n",
    "        unique_token_start_with_x.add(token)\n",
    "        \n",
    "print(len(unique_token_start_with_x))"
   ]
  },
  {
   "cell_type": "code",
   "execution_count": 83,
   "id": "65c435a1-b6e0-42eb-b7a5-21820a990d01",
   "metadata": {
    "tags": []
   },
   "outputs": [
    {
     "name": "stdout",
     "output_type": "stream",
     "text": [
      "761\n"
     ]
    }
   ],
   "source": [
    "unique_tokens_hypenated = [token for token in text_set if \"-\" in token and token[0].isalnum() and token[-1].isalnum()]\n",
    "print(len(unique_tokens_hypenated))"
   ]
  },
  {
   "cell_type": "code",
   "execution_count": 79,
   "id": "61d81d58-177e-4c6a-9c3f-4995457e5b1b",
   "metadata": {
    "tags": []
   },
   "outputs": [
    {
     "data": {
      "text/plain": [
       "['58-year-old',\n",
       " '19-month-old',\n",
       " 'do-it-yourself',\n",
       " 'cents-a-unit',\n",
       " '51-year-old',\n",
       " '63-year-old',\n",
       " '84-year-old',\n",
       " '120-a-share',\n",
       " 'savings-and-loan',\n",
       " 'day-to-day',\n",
       " 'Hart-Scott-Rodino',\n",
       " 'less-than-brilliant',\n",
       " 'black-and-white',\n",
       " '40-year-old',\n",
       " '31-year-old',\n",
       " 'triple-A-rated',\n",
       " 'anti-morning-sickness',\n",
       " 'machine-gun-toting',\n",
       " '43-year-old',\n",
       " 'four-foot-high',\n",
       " 'cash-and-stock',\n",
       " '62-year-old',\n",
       " 'most-likely-successor',\n",
       " '18-a-share',\n",
       " '59-year-old',\n",
       " 'larger-than-normal',\n",
       " '55-year-old',\n",
       " '17-year-old',\n",
       " '37-a-share',\n",
       " '11-month-old',\n",
       " '300-a-share',\n",
       " 'two-time-losers',\n",
       " 'built-from-kit',\n",
       " '18-year-old',\n",
       " 'over-the-counter',\n",
       " '53-year-old',\n",
       " '37-year-old',\n",
       " 'search-and-seizure',\n",
       " '55-a-share',\n",
       " 'computer-system-design',\n",
       " 'truth-in-lending',\n",
       " 'father-in-law',\n",
       " 'two-year-old',\n",
       " '54-year-old',\n",
       " '64-year-old',\n",
       " 'red-and-white',\n",
       " 'seven-million-ton',\n",
       " 'life-of-contract',\n",
       " '75-year-old',\n",
       " 'four-year-old',\n",
       " '70-a-share',\n",
       " 'Rent-A-Car',\n",
       " 'bread-and-butter',\n",
       " '25-year-old',\n",
       " 'easy-to-read',\n",
       " 'tete-a-tete',\n",
       " 'year-to-year',\n",
       " 'million-a-year',\n",
       " '45-a-share']"
      ]
     },
     "execution_count": 79,
     "metadata": {},
     "output_type": "execute_result"
    }
   ],
   "source": [
    "unique_tokens_double_hypenated = [token for token in text_set if token.count(\"-\") == 2 and token[0].isalnum() and token[-1].isalnum()]\n",
    "unique_tokens_double_hypenated"
   ]
  },
  {
   "cell_type": "code",
   "execution_count": 81,
   "id": "d90a3956-c859-4ca4-96dd-52a89ae5ed2e",
   "metadata": {
    "tags": []
   },
   "outputs": [
    {
     "data": {
      "text/plain": [
       "59"
      ]
     },
     "execution_count": 81,
     "metadata": {},
     "output_type": "execute_result"
    }
   ],
   "source": [
    "len(unique_tokens_double_hypenated)"
   ]
  },
  {
   "cell_type": "code",
   "execution_count": null,
   "id": "a1e35513-5956-437b-8716-c2f36825554a",
   "metadata": {},
   "outputs": [],
   "source": []
  }
 ],
 "metadata": {
  "kernelspec": {
   "display_name": "Python 3 (ipykernel)",
   "language": "python",
   "name": "python3"
  },
  "language_info": {
   "codemirror_mode": {
    "name": "ipython",
    "version": 3
   },
   "file_extension": ".py",
   "mimetype": "text/x-python",
   "name": "python",
   "nbconvert_exporter": "python",
   "pygments_lexer": "ipython3",
   "version": "3.11.5"
  }
 },
 "nbformat": 4,
 "nbformat_minor": 5
}
