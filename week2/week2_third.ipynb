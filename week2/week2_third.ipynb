{
 "cells": [
  {
   "cell_type": "code",
   "execution_count": 26,
   "id": "cce08b58-0216-454e-9890-1644eb727915",
   "metadata": {
    "tags": []
   },
   "outputs": [],
   "source": [
    "import nltk\n",
    "from nltk.book import text7\n",
    "from nltk.probability import FreqDist"
   ]
  },
  {
   "cell_type": "code",
   "execution_count": 36,
   "id": "3ed43a30-f17f-4705-8456-d4060291c1dc",
   "metadata": {
    "tags": []
   },
   "outputs": [],
   "source": [
    "tgs = nltk.trigrams(text7)\n",
    "tgsFreq = FreqDist(tgs)"
   ]
  },
  {
   "cell_type": "code",
   "execution_count": 43,
   "id": "ec6ded4b-be71-4aed-9d93-18938f9a598e",
   "metadata": {
    "tags": []
   },
   "outputs": [
    {
     "data": {
      "text/plain": [
       "FreqDist({('said', '0', 'it'): 108, ('said', '0', 'the'): 81, ('0', '*T*-1', '.'): 73, (',', \"''\", 'says'): 66, ('said', '0', '*T*-1'): 64, ('million', '*U*', ','): 64, (',', 'which', '*T*-1'): 63, (',', 'said', '0'): 61, ('0', '*', 'to'): 61, ('*U*', 'a', 'share'): 50, ...})"
      ]
     },
     "execution_count": 43,
     "metadata": {},
     "output_type": "execute_result"
    }
   ],
   "source": [
    "tgsFreq"
   ]
  },
  {
   "cell_type": "code",
   "execution_count": 46,
   "id": "5512b35b-b08c-4131-b83d-89d8980078c1",
   "metadata": {
    "tags": []
   },
   "outputs": [
    {
     "name": "stdout",
     "output_type": "stream",
     "text": [
      "('said', '0', 'it')\n",
      "108\n"
     ]
    }
   ],
   "source": [
    "most_frequent = 0\n",
    "most_frequent_tg = \"\"\n",
    "for tg, value in tgsFreq.items():\n",
    "    if value > most_frequent:\n",
    "        most_frequent = value\n",
    "        most_frequent_tg = tg\n",
    "\n",
    "print(most_frequent_tg)\n",
    "print(most_frequent)"
   ]
  },
  {
   "cell_type": "code",
   "execution_count": null,
   "id": "73c1357f-74b1-46bc-9cba-faac1777f695",
   "metadata": {},
   "outputs": [],
   "source": []
  }
 ],
 "metadata": {
  "kernelspec": {
   "display_name": "Python 3 (ipykernel)",
   "language": "python",
   "name": "python3"
  },
  "language_info": {
   "codemirror_mode": {
    "name": "ipython",
    "version": 3
   },
   "file_extension": ".py",
   "mimetype": "text/x-python",
   "name": "python",
   "nbconvert_exporter": "python",
   "pygments_lexer": "ipython3",
   "version": "3.11.5"
  }
 },
 "nbformat": 4,
 "nbformat_minor": 5
}
