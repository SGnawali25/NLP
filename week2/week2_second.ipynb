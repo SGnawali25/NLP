{
 "cells": [
  {
   "cell_type": "code",
   "execution_count": 1,
   "id": "148f1442-fb6c-4f1f-a04a-b43a3b5b00a6",
   "metadata": {
    "tags": []
   },
   "outputs": [
    {
     "name": "stdout",
     "output_type": "stream",
     "text": [
      "*** Introductory Examples for the NLTK Book ***\n",
      "Loading text1, ..., text9 and sent1, ..., sent9\n",
      "Type the name of the text or sentence to view it.\n",
      "Type: 'texts()' or 'sents()' to list the materials.\n",
      "text1: Moby Dick by Herman Melville 1851\n",
      "text2: Sense and Sensibility by Jane Austen 1811\n",
      "text3: The Book of Genesis\n",
      "text4: Inaugural Address Corpus\n",
      "text5: Chat Corpus\n",
      "text6: Monty Python and the Holy Grail\n",
      "text7: Wall Street Journal\n",
      "text8: Personals Corpus\n",
      "text9: The Man Who Was Thursday by G . K . Chesterton 1908\n"
     ]
    }
   ],
   "source": [
    "import nltk\n",
    "from nltk.book import text7\n",
    "from nltk.probability import FreqDist"
   ]
  },
  {
   "cell_type": "code",
   "execution_count": 3,
   "id": "4e9bda29-9749-4faa-8058-820495704faa",
   "metadata": {
    "tags": []
   },
   "outputs": [],
   "source": [
    "bgs = nltk.bigrams(text7)\n",
    "bgsFreq = FreqDist(bgs)"
   ]
  },
  {
   "cell_type": "code",
   "execution_count": 5,
   "id": "d687e890-999e-48db-a50c-dc057d204cb0",
   "metadata": {
    "tags": []
   },
   "outputs": [
    {
     "data": {
      "text/plain": [
       "FreqDist({('.', 'The'): 620, ('of', 'the'): 485, ('*-1', 'to'): 481, ('said', '0'): 471, ('*', 'to'): 371, ('in', 'the'): 362, (',', 'the'): 337, ('million', '*U*'): 297, ('.', '``'): 282, (',', \"''\"): 262, ...})"
      ]
     },
     "execution_count": 5,
     "metadata": {},
     "output_type": "execute_result"
    }
   ],
   "source": [
    "bgsFreq"
   ]
  },
  {
   "cell_type": "code",
   "execution_count": 21,
   "id": "883c139b-67cc-48d1-a41b-f5b1380f3bcf",
   "metadata": {
    "tags": []
   },
   "outputs": [
    {
     "name": "stdout",
     "output_type": "stream",
     "text": [
      "('.', 'The')\n",
      "620\n"
     ]
    }
   ],
   "source": [
    "most_frequent = 0\n",
    "most_frequent_bg = \"\"\n",
    "for bg, value in bgsFreq.items():\n",
    "    if value > most_frequent:\n",
    "        most_frequent = value\n",
    "        most_frequent_bg = bg\n",
    "\n",
    "print(most_frequent_bg)\n",
    "print(most_frequent)"
   ]
  },
  {
   "cell_type": "code",
   "execution_count": 23,
   "id": "f4362e80-0316-40b3-bda1-da5d04ff46cb",
   "metadata": {
    "tags": []
   },
   "outputs": [],
   "source": [
    "new_dict = dict(bgsFreq)"
   ]
  },
  {
   "cell_type": "code",
   "execution_count": 27,
   "id": "552a322f-ff5e-46cd-916a-c13f8786667b",
   "metadata": {
    "tags": []
   },
   "outputs": [
    {
     "name": "stdout",
     "output_type": "stream",
     "text": [
      "('of', 'the')\n",
      "485\n"
     ]
    }
   ],
   "source": [
    "most_frequent = 0\n",
    "most_frequent_bg = \"\"\n",
    "for bg, value in bgsFreq.items():\n",
    "    if value > most_frequent and bg[0].isalnum() and bg[1].isalnum():\n",
    "        most_frequent = value\n",
    "        most_frequent_bg = bg\n",
    "\n",
    "print(most_frequent_bg)\n",
    "print(most_frequent)"
   ]
  },
  {
   "cell_type": "code",
   "execution_count": null,
   "id": "05bb66fe-c60a-4a69-9611-7580ed58b62a",
   "metadata": {},
   "outputs": [],
   "source": []
  }
 ],
 "metadata": {
  "kernelspec": {
   "display_name": "Python 3 (ipykernel)",
   "language": "python",
   "name": "python3"
  },
  "language_info": {
   "codemirror_mode": {
    "name": "ipython",
    "version": 3
   },
   "file_extension": ".py",
   "mimetype": "text/x-python",
   "name": "python",
   "nbconvert_exporter": "python",
   "pygments_lexer": "ipython3",
   "version": "3.11.5"
  }
 },
 "nbformat": 4,
 "nbformat_minor": 5
}
