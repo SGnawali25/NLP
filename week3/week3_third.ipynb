{
 "cells": [
  {
   "cell_type": "code",
   "execution_count": 13,
   "id": "f797c4aa-bebf-4a7f-91f2-a1a9b91d3468",
   "metadata": {
    "tags": []
   },
   "outputs": [],
   "source": [
    "import nltk\n",
    "from nltk.probability import FreqDist\n",
    "from nltk.tokenize import regexp_tokenize, wordpunct_tokenize, blankline_tokenize\n",
    "from nltk.tag import pos_tag"
   ]
  },
  {
   "cell_type": "code",
   "execution_count": 15,
   "id": "ac7705dd-ca7c-448f-b2ae-39300cf99190",
   "metadata": {
    "tags": []
   },
   "outputs": [],
   "source": [
    "gettysburg = '''Four score and seven years ago our fathers brought forth on this continent, a new nation, conceived in Liberty, and dedicated to the proposition that all men are created equal.\n",
    "\n",
    "Now we are engaged in a great civil war, testing whether that nation, or any nation so conceived and so dedicated, can long endure. We are met on a great battle-field of that war. We have come to dedicate a portion of that field, as a final resting place for those who here gave their lives that that nation might live. It is altogether fitting and proper that we should do this.\n",
    "\n",
    "But, in a larger sense, we can not dedicate -- we can not consecrate -- we can not hallow -- this ground. The brave men, living and dead, who struggled here, have consecrated it, far above our poor power to add or detract. The world will little note, nor long remember what we say here, but it can never forget what they did here. It is for us the living, rather, to be dedicated here to the unfinished work which they who fought here have thus far so nobly advanced. It is rather for us to be here dedicated to the great task remaining before us -- that from these honored dead we take increased devotion to that cause for which they gave the last full measure of devotion -- that we here highly resolve that these dead shall not have died in vain -- that this nation, under God, shall have a new birth of freedom -- and that government of the people, by the people, for the people, shall not perish from the earth.'''"
   ]
  },
  {
   "cell_type": "code",
   "execution_count": 50,
   "id": "c855bfc8-1f1d-4c07-9c68-ac00447e4fc6",
   "metadata": {
    "tags": []
   },
   "outputs": [],
   "source": [
    "gettysburg = '''The sentence 'John has, has he not, has had many chances, hasn't he?' has five 'has' in it.'''"
   ]
  },
  {
   "cell_type": "code",
   "execution_count": 52,
   "id": "c6164d83-beaa-4c15-99af-67eb9834b00d",
   "metadata": {
    "tags": []
   },
   "outputs": [
    {
     "name": "stdout",
     "output_type": "stream",
     "text": [
      "28\n"
     ]
    }
   ],
   "source": [
    "wordpunct_tokens_list = wordpunct_tokenize(gettysburg)\n",
    "print(len(wordpunct_tokens_list))"
   ]
  },
  {
   "cell_type": "code",
   "execution_count": 54,
   "id": "74a45b51-4b85-439f-b369-55bac6cb2c84",
   "metadata": {
    "tags": []
   },
   "outputs": [],
   "source": [
    "tags = pos_tag(wordpunct_tokens_list)"
   ]
  },
  {
   "cell_type": "code",
   "execution_count": 56,
   "id": "f3e2b190-6340-49ea-81b7-3a9d4642508b",
   "metadata": {
    "tags": []
   },
   "outputs": [
    {
     "name": "stdout",
     "output_type": "stream",
     "text": [
      "[('The', 'DT'), ('sentence', 'NN'), (\"'\", 'POS'), ('John', 'NNP'), ('has', 'VBZ'), (',', ','), ('has', 'VBZ'), ('he', 'PRP'), ('not', 'RB'), (',', ','), ('has', 'VBZ'), ('had', 'VBN'), ('many', 'JJ'), ('chances', 'NNS'), (',', ','), ('hasn', 'NN'), (\"'\", \"''\"), ('t', 'NN'), ('he', 'PRP'), (\"?'\", 'VBZ'), ('has', 'VBZ'), ('five', 'CD'), (\"'\", \"''\"), ('has', 'VBZ'), (\"'\", 'VBN'), ('in', 'IN'), ('it', 'PRP'), ('.', '.')]\n"
     ]
    }
   ],
   "source": [
    "print(tags)"
   ]
  },
  {
   "cell_type": "code",
   "execution_count": 58,
   "id": "7cbe0e5b-f16e-4340-b178-6da80400e463",
   "metadata": {
    "tags": []
   },
   "outputs": [
    {
     "name": "stdout",
     "output_type": "stream",
     "text": [
      "28\n"
     ]
    }
   ],
   "source": [
    "print(len(tags))"
   ]
  },
  {
   "cell_type": "code",
   "execution_count": 60,
   "id": "4fd3f648-c94f-49ce-beb9-1e7b51d3c416",
   "metadata": {
    "tags": []
   },
   "outputs": [],
   "source": [
    "frequency = {}\n",
    "for word, cla in tags:\n",
    "    if cla not in frequency:\n",
    "        frequency[cla] = [word]\n",
    "    else:\n",
    "        frequency[cla].append(word)\n"
   ]
  },
  {
   "cell_type": "code",
   "execution_count": 62,
   "id": "26dd4b8a-2d11-4509-b0f5-9f806ecba625",
   "metadata": {
    "tags": []
   },
   "outputs": [
    {
     "data": {
      "text/plain": [
       "{'DT': ['The'],\n",
       " 'NN': ['sentence', 'hasn', 't'],\n",
       " 'POS': [\"'\"],\n",
       " 'NNP': ['John'],\n",
       " 'VBZ': ['has', 'has', 'has', \"?'\", 'has', 'has'],\n",
       " ',': [',', ',', ','],\n",
       " 'PRP': ['he', 'he', 'it'],\n",
       " 'RB': ['not'],\n",
       " 'VBN': ['had', \"'\"],\n",
       " 'JJ': ['many'],\n",
       " 'NNS': ['chances'],\n",
       " \"''\": [\"'\", \"'\"],\n",
       " 'CD': ['five'],\n",
       " 'IN': ['in'],\n",
       " '.': ['.']}"
      ]
     },
     "execution_count": 62,
     "metadata": {},
     "output_type": "execute_result"
    }
   ],
   "source": [
    "frequency"
   ]
  },
  {
   "cell_type": "code",
   "execution_count": 64,
   "id": "9c861edb-13e8-4194-8ea7-f02ff588d523",
   "metadata": {
    "tags": []
   },
   "outputs": [
    {
     "name": "stdout",
     "output_type": "stream",
     "text": [
      "15\n"
     ]
    }
   ],
   "source": [
    "print(len(frequency))"
   ]
  },
  {
   "cell_type": "code",
   "execution_count": 66,
   "id": "654a4c9b-32f1-4fad-b693-8ddc831f5aa7",
   "metadata": {
    "tags": []
   },
   "outputs": [],
   "source": [
    "sorted_freq = sorted(frequency.items(), key = lambda x: len(x[1]))"
   ]
  },
  {
   "cell_type": "code",
   "execution_count": 68,
   "id": "b903d085-2308-4137-96a0-933574867857",
   "metadata": {
    "tags": []
   },
   "outputs": [
    {
     "name": "stdout",
     "output_type": "stream",
     "text": [
      "('VBZ', ['has', 'has', 'has', \"?'\", 'has', 'has'])\n"
     ]
    }
   ],
   "source": [
    "print(sorted_freq[-1])"
   ]
  },
  {
   "cell_type": "code",
   "execution_count": null,
   "id": "56acd41e-9696-4a2f-bfc7-be75acce2191",
   "metadata": {},
   "outputs": [],
   "source": []
  }
 ],
 "metadata": {
  "kernelspec": {
   "display_name": "Python 3 (ipykernel)",
   "language": "python",
   "name": "python3"
  },
  "language_info": {
   "codemirror_mode": {
    "name": "ipython",
    "version": 3
   },
   "file_extension": ".py",
   "mimetype": "text/x-python",
   "name": "python",
   "nbconvert_exporter": "python",
   "pygments_lexer": "ipython3",
   "version": "3.11.5"
  }
 },
 "nbformat": 4,
 "nbformat_minor": 5
}
