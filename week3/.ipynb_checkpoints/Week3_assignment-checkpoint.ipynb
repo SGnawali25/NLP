{
 "cells": [
  {
   "cell_type": "code",
   "execution_count": 10,
   "id": "3f25eeaf-4b0a-4543-9ea3-ba8bfec32674",
   "metadata": {
    "tags": []
   },
   "outputs": [],
   "source": [
    "import nltk\n",
    "from nltk.probability import FreqDist\n",
    "from nltk.tokenize import regexp_tokenize, wordpunct_tokenize, blankline_tokenize"
   ]
  },
  {
   "cell_type": "code",
   "execution_count": 12,
   "id": "ea60a1f8-38fd-49a9-bbe1-13e35b08679a",
   "metadata": {
    "tags": []
   },
   "outputs": [],
   "source": [
    "gettysburg = '''Four score and seven years ago our fathers brought forth on this continent, a new nation, conceived in Liberty, and dedicated to the proposition that all men are created equal.\n",
    "\n",
    "Now we are engaged in a great civil war, testing whether that nation, or any nation so conceived and so dedicated, can long endure. We are met on a great battle-field of that war. We have come to dedicate a portion of that field, as a final resting place for those who here gave their lives that that nation might live. It is altogether fitting and proper that we should do this.\n",
    "\n",
    "But, in a larger sense, we can not dedicate -- we can not consecrate -- we can not hallow -- this ground. The brave men, living and dead, who struggled here, have consecrated it, far above our poor power to add or detract. The world will little note, nor long remember what we say here, but it can never forget what they did here. It is for us the living, rather, to be dedicated here to the unfinished work which they who fought here have thus far so nobly advanced. It is rather for us to be here dedicated to the great task remaining before us -- that from these honored dead we take increased devotion to that cause for which they gave the last full measure of devotion -- that we here highly resolve that these dead shall not have died in vain -- that this nation, under God, shall have a new birth of freedom -- and that government of the people, by the people, for the people, shall not perish from the earth.'''"
   ]
  },
  {
   "cell_type": "code",
   "execution_count": 23,
   "id": "ff886841-c70a-4a44-aabe-757d3cd69e58",
   "metadata": {
    "tags": []
   },
   "outputs": [
    {
     "name": "stdout",
     "output_type": "stream",
     "text": [
      "312\n"
     ]
    }
   ],
   "source": [
    "wordpunct_tokens_list = wordpunct_tokenize(gettysburg)\n",
    "print(len(wordpunct_tokens_list))"
   ]
  },
  {
   "cell_type": "code",
   "execution_count": 25,
   "id": "26e36bc9-63a6-4947-90ec-46e3842fb329",
   "metadata": {
    "tags": []
   },
   "outputs": [],
   "source": [
    "wordpunct_tokens_set = set(wordpunct_tokens_list)"
   ]
  },
  {
   "cell_type": "code",
   "execution_count": 41,
   "id": "2d1a251a-2118-4070-94c4-2c7a38c1ec3f",
   "metadata": {
    "tags": []
   },
   "outputs": [
    {
     "name": "stdout",
     "output_type": "stream",
     "text": [
      "The length of unique tokens are 146\n"
     ]
    }
   ],
   "source": [
    "print(f\"The length of unique tokens are {len(wordpunct_tokens_set)}\")"
   ]
  },
  {
   "cell_type": "code",
   "execution_count": 43,
   "id": "bd172532-2799-4a61-bc8d-ee6cceaab5f8",
   "metadata": {
    "tags": []
   },
   "outputs": [],
   "source": [
    "stemmer = nltk.LancasterStemmer()"
   ]
  },
  {
   "cell_type": "code",
   "execution_count": 45,
   "id": "f269c6fc-ebe7-4a87-ac2b-f0701902a494",
   "metadata": {
    "tags": []
   },
   "outputs": [],
   "source": [
    "stem_list = [stemmer.stem(token) for token in wordpunct_tokens_set ]"
   ]
  },
  {
   "cell_type": "code",
   "execution_count": 47,
   "id": "d743c236-9d9f-4c22-9ca5-cb8f4d3bbb50",
   "metadata": {
    "tags": []
   },
   "outputs": [],
   "source": [
    "unique_stem_set = set(stem_list)"
   ]
  },
  {
   "cell_type": "code",
   "execution_count": 49,
   "id": "827598c9-8826-4edb-ab1c-6ea45fbd0aa6",
   "metadata": {
    "tags": []
   },
   "outputs": [
    {
     "name": "stdout",
     "output_type": "stream",
     "text": [
      "The length of unique stem are 136\n"
     ]
    }
   ],
   "source": [
    "print(f'The length of unique stem are {len(unique_stem_set)}')"
   ]
  },
  {
   "cell_type": "code",
   "execution_count": 53,
   "id": "0f8160ad-9e5b-4c7f-846c-09f7b80b5a80",
   "metadata": {
    "tags": []
   },
   "outputs": [],
   "source": [
    "appearance_list = [stemmer.stem(token) for token in wordpunct_tokens_list]\n",
    "appearance_dict = FreqDist(appearance_list)"
   ]
  },
  {
   "cell_type": "code",
   "execution_count": 71,
   "id": "f2348e0f-51f8-45a6-bd0b-3ab2b2b5941b",
   "metadata": {
    "tags": []
   },
   "outputs": [
    {
     "data": {
      "text/plain": [
       "[(',', 22)]"
      ]
     },
     "execution_count": 71,
     "metadata": {},
     "output_type": "execute_result"
    }
   ],
   "source": [
    "most_appearing_stem = appearance_dict.most_common(1)\n",
    "most_appearing_stem"
   ]
  },
  {
   "cell_type": "code",
   "execution_count": 85,
   "id": "3ebc92f6-9e88-41a3-9810-2a56af3e3c0e",
   "metadata": {
    "tags": []
   },
   "outputs": [],
   "source": [
    "stem_dict = {}\n",
    "for token in wordpunct_tokens_set:\n",
    "    stem_word = stemmer.stem(token)\n",
    "    if stem_word not in stem_dict:\n",
    "        stem_dict[stem_word] = {token}\n",
    "    else:\n",
    "        stem_dict[stem_word].add(token)\n"
   ]
  },
  {
   "cell_type": "code",
   "execution_count": 87,
   "id": "e9f2f34a-fb19-4f77-ac5c-43034227b80d",
   "metadata": {
    "tags": []
   },
   "outputs": [],
   "source": [
    "sorted_stem_dict = sorted(stem_dict.items(), key=lambda x: len(x[1]))"
   ]
  },
  {
   "cell_type": "code",
   "execution_count": 89,
   "id": "b43be902-40e4-4108-a3b3-9037b7cc276a",
   "metadata": {
    "tags": []
   },
   "outputs": [
    {
     "data": {
      "text/plain": [
       "('liv', {'live', 'lives', 'living'})"
      ]
     },
     "execution_count": 89,
     "metadata": {},
     "output_type": "execute_result"
    }
   ],
   "source": [
    "sorted_stem_dict[-1]"
   ]
  },
  {
   "cell_type": "code",
   "execution_count": 91,
   "id": "b5adb682-1228-47c9-8fb3-dfc310939c65",
   "metadata": {
    "tags": []
   },
   "outputs": [
    {
     "name": "stdout",
     "output_type": "stream",
     "text": [
      "The most appearing stem is , with count 22 and its variation is {','}.\n"
     ]
    }
   ],
   "source": [
    "print(f\"The most appearing stem is {most_appearing_stem[0][0]} with count {most_appearing_stem[0][1]} and its variation is {stem_dict[most_appearing_stem[0][0]]}.\")"
   ]
  },
  {
   "cell_type": "code",
   "execution_count": 93,
   "id": "a9270297-bffc-4afb-a3bc-40f195327bd2",
   "metadata": {
    "tags": []
   },
   "outputs": [
    {
     "name": "stdout",
     "output_type": "stream",
     "text": [
      "The most variant stem is liv and its variation are {'living', 'live', 'lives'}.\n"
     ]
    }
   ],
   "source": [
    "print(f\"The most variant stem is {sorted_stem_dict[-1][0]} and its variation are {sorted_stem_dict[-1][1]}.\")"
   ]
  },
  {
   "cell_type": "code",
   "execution_count": null,
   "id": "a6acc600-46aa-4a83-8b96-e3917d61dbc8",
   "metadata": {},
   "outputs": [],
   "source": []
  }
 ],
 "metadata": {
  "kernelspec": {
   "display_name": "Python 3 (ipykernel)",
   "language": "python",
   "name": "python3"
  },
  "language_info": {
   "codemirror_mode": {
    "name": "ipython",
    "version": 3
   },
   "file_extension": ".py",
   "mimetype": "text/x-python",
   "name": "python",
   "nbconvert_exporter": "python",
   "pygments_lexer": "ipython3",
   "version": "3.11.5"
  }
 },
 "nbformat": 4,
 "nbformat_minor": 5
}
