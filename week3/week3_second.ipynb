{
 "cells": [
  {
   "cell_type": "code",
   "execution_count": 172,
   "id": "d65d0f44-3c23-4382-84c1-b8c5e885ad8c",
   "metadata": {
    "tags": []
   },
   "outputs": [],
   "source": [
    "import nltk\n",
    "from nltk.book import text7"
   ]
  },
  {
   "cell_type": "code",
   "execution_count": 194,
   "id": "903ace6d-2805-4fbc-8f5c-e9c3788203d1",
   "metadata": {
    "tags": []
   },
   "outputs": [
    {
     "name": "stdout",
     "output_type": "stream",
     "text": [
      "100676\n"
     ]
    }
   ],
   "source": [
    "text_list = list(text7)\n",
    "print(len(text_list))"
   ]
  },
  {
   "cell_type": "code",
   "execution_count": 196,
   "id": "2742c085-f749-4ed4-85dc-1aaf586b461c",
   "metadata": {
    "tags": []
   },
   "outputs": [],
   "source": [
    "text_set = set(text_list)"
   ]
  },
  {
   "cell_type": "code",
   "execution_count": 198,
   "id": "3da0e1f2-cadf-486f-8011-6bc59a7cf632",
   "metadata": {
    "tags": []
   },
   "outputs": [
    {
     "name": "stdout",
     "output_type": "stream",
     "text": [
      "12408\n"
     ]
    }
   ],
   "source": [
    "print(len(text_set))"
   ]
  },
  {
   "cell_type": "code",
   "execution_count": 200,
   "id": "88b8399c-0741-4d65-8fd7-e37d542cf6a0",
   "metadata": {
    "tags": []
   },
   "outputs": [],
   "source": [
    "stemmer = nltk.LancasterStemmer()\n",
    "stem = {}\n",
    "variations = {}"
   ]
  },
  {
   "cell_type": "code",
   "execution_count": 214,
   "id": "9bd00fe2-d6c8-42a7-964f-4e8d2f29c283",
   "metadata": {
    "tags": []
   },
   "outputs": [],
   "source": [
    "stemmer_tokens_list = []\n",
    "for tokens in text_list:\n",
    "    v1 = stemmer.stem(tokens)\n",
    "    stemmer_tokens_list.append(v1)\n",
    "    \n",
    "    if v1 not in stem:\n",
    "        stem[v1] = 1\n",
    "        variations[v1] = {tokens}\n",
    "    else:\n",
    "        stem[v1] += 1\n",
    "        variations[v1].add(tokens)"
   ]
  },
  {
   "cell_type": "code",
   "execution_count": 204,
   "id": "132d0854-3992-4681-acc2-e5fe9168d330",
   "metadata": {
    "tags": []
   },
   "outputs": [
    {
     "name": "stdout",
     "output_type": "stream",
     "text": [
      "12408\n"
     ]
    }
   ],
   "source": [
    "print(len(stemmer_tokens_list))"
   ]
  },
  {
   "cell_type": "code",
   "execution_count": 206,
   "id": "2ea3b744-b20f-4d1d-b97a-e02d3a684fbb",
   "metadata": {
    "tags": []
   },
   "outputs": [],
   "source": [
    "stemmer_tokens_set = set(stemmer_tokens_list)"
   ]
  },
  {
   "cell_type": "code",
   "execution_count": 208,
   "id": "b89a329b-7993-4804-a592-47fd494f2fac",
   "metadata": {
    "tags": []
   },
   "outputs": [
    {
     "name": "stdout",
     "output_type": "stream",
     "text": [
      "7707\n"
     ]
    }
   ],
   "source": [
    "print(len(stemmer_tokens_set))"
   ]
  },
  {
   "cell_type": "code",
   "execution_count": 210,
   "id": "69b7eac3-6e77-41c8-8e82-7487f92336b5",
   "metadata": {
    "tags": []
   },
   "outputs": [],
   "source": [
    "output = sorted(stem.items(), key = lambda x: x[1])"
   ]
  },
  {
   "cell_type": "code",
   "execution_count": 212,
   "id": "05688246-d1ba-4a76-93f6-19edbd5db160",
   "metadata": {
    "tags": []
   },
   "outputs": [
    {
     "data": {
      "text/plain": [
       "('fin', 19)"
      ]
     },
     "execution_count": 212,
     "metadata": {},
     "output_type": "execute_result"
    }
   ],
   "source": [
    "output[-1]"
   ]
  },
  {
   "cell_type": "code",
   "execution_count": 146,
   "id": "23f24abe-0bc7-492d-931e-f0faa88473ba",
   "metadata": {
    "tags": []
   },
   "outputs": [
    {
     "name": "stdout",
     "output_type": "stream",
     "text": [
      "('spec', {'specific', 'specialist', 'Speculation', 'specializes', 'speculators', 'specify', 'special', 'speculator', 'specializing', 'specialists', 'speculative', 'speculate', 'specialize', 'specified', 'specifics', 'speculation', 'speculated', 'specialized', 'speculating'})\n"
     ]
    }
   ],
   "source": [
    "test = sorted(variations.items(), key = lambda x:len(x[1]))\n",
    "print(test[-1])"
   ]
  },
  {
   "cell_type": "code",
   "execution_count": 118,
   "id": "8ff4cb58-2c31-4315-973c-bca9741951c8",
   "metadata": {
    "tags": []
   },
   "outputs": [
    {
     "name": "stdout",
     "output_type": "stream",
     "text": [
      "19\n"
     ]
    }
   ],
   "source": [
    "print(len(test[-1][1]))"
   ]
  },
  {
   "cell_type": "code",
   "execution_count": null,
   "id": "4230d0c6-80e9-45ef-bcfa-b9244e00d256",
   "metadata": {},
   "outputs": [],
   "source": []
  }
 ],
 "metadata": {
  "kernelspec": {
   "display_name": "Python 3 (ipykernel)",
   "language": "python",
   "name": "python3"
  },
  "language_info": {
   "codemirror_mode": {
    "name": "ipython",
    "version": 3
   },
   "file_extension": ".py",
   "mimetype": "text/x-python",
   "name": "python",
   "nbconvert_exporter": "python",
   "pygments_lexer": "ipython3",
   "version": "3.11.5"
  }
 },
 "nbformat": 4,
 "nbformat_minor": 5
}
