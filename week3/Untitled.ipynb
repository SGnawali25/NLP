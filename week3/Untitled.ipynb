{
 "cells": [
  {
   "cell_type": "code",
   "execution_count": 41,
   "id": "582aaf3f-8c76-4867-abba-5324d12caad5",
   "metadata": {
    "tags": []
   },
   "outputs": [],
   "source": [
    "import nltk \n",
    "from nltk.corpus import brown"
   ]
  },
  {
   "cell_type": "code",
   "execution_count": 43,
   "id": "0fec342a-ca95-4a54-a162-24c0b1db709f",
   "metadata": {
    "tags": []
   },
   "outputs": [],
   "source": [
    "tagged_words = brown.tagged_words()"
   ]
  },
  {
   "cell_type": "code",
   "execution_count": 45,
   "id": "4308cbee-d12a-4ffd-b13f-d03353b87eb9",
   "metadata": {
    "tags": []
   },
   "outputs": [
    {
     "data": {
      "text/plain": [
       "[('The', 'AT'), ('Fulton', 'NP-TL'), ...]"
      ]
     },
     "execution_count": 45,
     "metadata": {},
     "output_type": "execute_result"
    }
   ],
   "source": [
    "tagged_words"
   ]
  },
  {
   "cell_type": "code",
   "execution_count": 47,
   "id": "c5c88e06-1f00-4856-a21d-88cdec78842a",
   "metadata": {
    "tags": []
   },
   "outputs": [
    {
     "name": "stdout",
     "output_type": "stream",
     "text": [
      "1161192\n"
     ]
    }
   ],
   "source": [
    "print(len(tagged_words))"
   ]
  },
  {
   "cell_type": "code",
   "execution_count": 48,
   "id": "ef224ef6-caf5-40c4-b98f-33fdfc4949db",
   "metadata": {
    "tags": []
   },
   "outputs": [],
   "source": [
    "word_freq = {}\n",
    "for word, tag in tagged_words:\n",
    "    word = word.lower()\n",
    "    if word not in word_freq:\n",
    "        word_freq[word] = [tag]\n",
    "    else:\n",
    "        word_freq[word].append(tag)\n"
   ]
  },
  {
   "cell_type": "code",
   "execution_count": 51,
   "id": "f07e34d5-8da3-4932-a782-ee3a00d9b295",
   "metadata": {
    "tags": []
   },
   "outputs": [],
   "source": [
    "vb = 0\n",
    "nn = 0\n",
    "nn_tl = 0\n",
    "for tag in word_freq['permit']:\n",
    "    if tag == 'VB':\n",
    "        vb += 1\n",
    "    elif tag == \"NN\":\n",
    "        nn += 1\n",
    "    else:\n",
    "        nn_tl += 1"
   ]
  },
  {
   "cell_type": "code",
   "execution_count": 53,
   "id": "edd2e746-2439-4fa1-9938-2465841e5632",
   "metadata": {
    "tags": []
   },
   "outputs": [
    {
     "data": {
      "text/plain": [
       "{'NN', 'NN-TL', 'VB'}"
      ]
     },
     "execution_count": 53,
     "metadata": {},
     "output_type": "execute_result"
    }
   ],
   "source": [
    "permit_tag_set = set(word_freq[\"permit\"])\n",
    "permit_tag_set"
   ]
  },
  {
   "cell_type": "code",
   "execution_count": 35,
   "id": "9004d177-6df9-48eb-8338-60757beb669d",
   "metadata": {
    "tags": []
   },
   "outputs": [
    {
     "name": "stdout",
     "output_type": "stream",
     "text": [
      "nn 10 vb 66 nn_tl 1\n"
     ]
    }
   ],
   "source": [
    "print(\"nn\", nn, \"vb\", vb, \"nn_tl\", nn_tl)"
   ]
  },
  {
   "cell_type": "code",
   "execution_count": 55,
   "id": "5478bb8d-fa66-4668-820f-654a5790b261",
   "metadata": {
    "tags": []
   },
   "outputs": [],
   "source": [
    "total = nn + vb \n",
    "noun_probability = (nn / total) * 100\n",
    "verb_probability = (vb / total) * 100"
   ]
  },
  {
   "cell_type": "code",
   "execution_count": 57,
   "id": "14ce6045-c644-40d4-a603-b2e874748d3e",
   "metadata": {
    "tags": []
   },
   "outputs": [
    {
     "name": "stdout",
     "output_type": "stream",
     "text": [
      "The noun probability of permit is 13.157894736842104 and verb probability is 86.8421052631579.\n"
     ]
    }
   ],
   "source": [
    "print(f\"The noun probability of permit is {noun_probability} and verb probability is {verb_probability}.\")"
   ]
  },
  {
   "cell_type": "code",
   "execution_count": 59,
   "id": "eb0e5c4d-51fe-4808-817e-c85d07cbdc22",
   "metadata": {
    "tags": []
   },
   "outputs": [],
   "source": [
    "vb = 0\n",
    "nn = 0\n",
    "nn_tl = 0\n",
    "for tag in word_freq['request']:\n",
    "    if tag == 'VB':\n",
    "        vb += 1\n",
    "    elif tag == \"NN\":\n",
    "        nn += 1\n",
    "    else:\n",
    "        nn_tl += 1"
   ]
  },
  {
   "cell_type": "code",
   "execution_count": 61,
   "id": "53245be8-ba29-4adb-a97d-3b11c2f250bd",
   "metadata": {
    "tags": []
   },
   "outputs": [
    {
     "data": {
      "text/plain": [
       "{'NN', 'VB'}"
      ]
     },
     "execution_count": 61,
     "metadata": {},
     "output_type": "execute_result"
    }
   ],
   "source": [
    "request_tag_set = set(word_freq[\"request\"])\n",
    "request_tag_set"
   ]
  },
  {
   "cell_type": "code",
   "execution_count": 63,
   "id": "15e119a7-5c10-42a2-b1f8-7ad0f3c6cd79",
   "metadata": {
    "tags": []
   },
   "outputs": [],
   "source": [
    "total = nn + vb \n",
    "noun_probability = (nn / total) * 100\n",
    "verb_probability = (vb / total) * 100"
   ]
  },
  {
   "cell_type": "code",
   "execution_count": 65,
   "id": "80e3b01a-589f-4136-af73-52de0fd881e7",
   "metadata": {
    "tags": []
   },
   "outputs": [
    {
     "name": "stdout",
     "output_type": "stream",
     "text": [
      "The noun probability of permit is 85.71428571428571 and verb probability is 14.285714285714285.\n"
     ]
    }
   ],
   "source": [
    "print(f\"The noun probability of permit is {noun_probability} and verb probability is {verb_probability}.\")"
   ]
  },
  {
   "cell_type": "code",
   "execution_count": 67,
   "id": "185ee820-c564-4e12-9e0a-050caf19c558",
   "metadata": {
    "tags": []
   },
   "outputs": [],
   "source": [
    "vb = 0\n",
    "nn = 0\n",
    "nn_tl = 0\n",
    "for tag in word_freq['desire']:\n",
    "    if tag == 'VB':\n",
    "        vb += 1\n",
    "    elif tag == \"NN\":\n",
    "        nn += 1\n",
    "    else:\n",
    "        nn_tl += 1"
   ]
  },
  {
   "cell_type": "code",
   "execution_count": 69,
   "id": "8a2b1012-6566-4949-940b-a3c840caf556",
   "metadata": {
    "tags": []
   },
   "outputs": [
    {
     "data": {
      "text/plain": [
       "{'NN', 'VB'}"
      ]
     },
     "execution_count": 69,
     "metadata": {},
     "output_type": "execute_result"
    }
   ],
   "source": [
    "request_tag_set = set(word_freq[\"desire\"])\n",
    "request_tag_set"
   ]
  },
  {
   "cell_type": "code",
   "execution_count": 71,
   "id": "b0a62fb2-7b89-4067-825a-2eb1ef5dedf0",
   "metadata": {
    "tags": []
   },
   "outputs": [],
   "source": [
    "total = nn + vb \n",
    "noun_probability = (nn / total) * 100\n",
    "verb_probability = (vb / total) * 100"
   ]
  },
  {
   "cell_type": "code",
   "execution_count": 73,
   "id": "f277d7a7-1107-4aaa-959e-2842ee86ab5c",
   "metadata": {
    "tags": []
   },
   "outputs": [
    {
     "name": "stdout",
     "output_type": "stream",
     "text": [
      "The noun probability of permit is 86.07594936708861 and verb probability is 13.924050632911392.\n"
     ]
    }
   ],
   "source": [
    "print(f\"The noun probability of permit is {noun_probability} and verb probability is {verb_probability}.\")"
   ]
  },
  {
   "cell_type": "code",
   "execution_count": null,
   "id": "26e6bde3-7678-43a4-b7e5-2b409c1c1662",
   "metadata": {},
   "outputs": [],
   "source": []
  }
 ],
 "metadata": {
  "kernelspec": {
   "display_name": "Python 3 (ipykernel)",
   "language": "python",
   "name": "python3"
  },
  "language_info": {
   "codemirror_mode": {
    "name": "ipython",
    "version": 3
   },
   "file_extension": ".py",
   "mimetype": "text/x-python",
   "name": "python",
   "nbconvert_exporter": "python",
   "pygments_lexer": "ipython3",
   "version": "3.11.5"
  }
 },
 "nbformat": 4,
 "nbformat_minor": 5
}
